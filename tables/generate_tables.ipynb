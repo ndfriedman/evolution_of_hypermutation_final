{
 "cells": [
  {
   "cell_type": "code",
   "execution_count": 2,
   "metadata": {},
   "outputs": [],
   "source": [
    "import sys\n",
    "import argparse\n",
    "import os\n",
    "import pandas as pd\n",
    "import numpy as np\n",
    "import math\n",
    "import re\n",
    "from collections import Counter\n",
    "\n",
    "sys.path.append('/Users/friedman/Desktop/hypermutationProjectFinal/scripts/utilityScripts')\n",
    "import configuration_util\n",
    "import get_gene_and_cohort_list_utils\n",
    "filePathDict = configuration_util.get_all_files_path_dict()"
   ]
  },
  {
   "cell_type": "markdown",
   "metadata": {},
   "source": [
    "## TABLE 1\n",
    "Summary of IMPACT data <br></br>\n",
    "Columns: **DMP, TMB, IS_MSI, DOMINANT_SIGNATURE, CANCER_TYPE, HYPERMUTATION_STATUS, N_ONCOGENIC, N_HOTSPOT, N_TRUNCATING, N_TRUNCATING_TSG, N_TRUNCATING_ONCOGENE, N_HOTSPOT_TSG, N_HOTSPOT_ONCOGENE**"
   ]
  },
  {
   "cell_type": "code",
   "execution_count": 21,
   "metadata": {},
   "outputs": [],
   "source": [
    "def get_per_case_mut_info(muts, mutType='oncogenic', geneType='all'):\n",
    "    tsgs = get_gene_and_cohort_list_utils.get_tsgs()\n",
    "    oncogenes = get_gene_and_cohort_list_utils.get_oncogenes()\n",
    "    \n",
    "    if geneType == 'tsg':\n",
    "        muts = muts[muts['Hugo_Symbol'].isin(tsgs)]\n",
    "    if geneType == 'oncogene':\n",
    "        muts = muts[muts['Hugo_Symbol'].isin(oncogenes)]\n",
    "    \n",
    "    if mutType == 'oncogenic':\n",
    "        muts = muts[muts['oncogenic'].notnull()]\n",
    "    if mutType == 'hotspot':\n",
    "        muts = muts[muts['is-a-hotspot'] == 'Y']\n",
    "    if mutType == 'stopGain':\n",
    "        muts = muts[muts['Variant_Classification'] == 'Nonsense_Mutation']\n",
    "    if mutType == 'frameShiftIndel':\n",
    "        muts = muts[muts['Variant_Classification'].isin(set(['Frame_Shift_Del', 'Frame_Shift_Ins']))]\n",
    "        \n",
    "    infoDict = dict(muts['Tumor_Sample_Barcode'].value_counts())\n",
    "    return infoDict\n",
    "\n",
    "def create_table_one(maf):\n",
    "    \n",
    "    listOfDicts = []\n",
    "    hypermutantIds = get_gene_and_cohort_list_utils.get_all_hypermutant_ids(hypermutantIdDir=filePathDict['HYPERMUTATION_STATUS_IDS'])\n",
    "    normalIds = get_gene_and_cohort_list_utils.get_all_normal_ids(hypermutantIdDir=filePathDict['HYPERMUTATION_STATUS_IDS'])\n",
    "    tmbDict = get_gene_and_cohort_list_utils.get_all_tmb_info(tmbFilePath = filePathDict['CASE_TMB_AND_MSI_STATS'])\n",
    "    dominantSignatureDict = get_gene_and_cohort_list_utils.get_hypermutator_signature_cohorts(impactSigsPath=filePathDict['IMPACT_SIGNATURE_DECOMPOSITIONS'])\n",
    "    msiCases = get_gene_and_cohort_list_utils.get_msi_cases(msiInfoFilePath = filePathDict['CASE_TMB_AND_MSI_STATS'])\n",
    "    cancerTypeDict = get_gene_and_cohort_list_utils.get_impact_cancer_type_info(impactCancerTypeInfoPath=filePathDict['CANCER_TYPE_INFO'])\n",
    "    \n",
    "    nMutTypeDicts = {}\n",
    "    for mutType in ['oncogenic', 'hotspot', 'stopGain', 'frameShiftIndel']:\n",
    "        for geneType in ['tsg', 'oncogene', 'all']:\n",
    "            geneMutType = geneType + '_' + mutType\n",
    "            nMutTypeDicts[geneMutType] = get_per_case_mut_info(maf, mutType=mutType, geneType=geneType)\n",
    "            \n",
    "        \n",
    "    #MAKE mut counts dict\n",
    "    for case in set(maf['Tumor_Sample_Barcode']):\n",
    "        localD = {'DMP': case}\n",
    "        localD['TMB'] = tmbDict[case]\n",
    "        localD['IS_MSI'] = True if case in msiCases else False\n",
    "        localD['DOMINANT_SIGNATURE'] = dominantSignatureDict[case] if case in dominantSignatureDict else None\n",
    "        localD['CANCER_TYPE'] = cancerTypeDict[case] if case in cancerTypeDict else None\n",
    "        localD['HYPERMUTATION_STATUS'] = 'HYPERMUTATED' if case in hypermutantIds else 'NORMAL' if case in normalIds else 'INDETERMINATE'\n",
    "        \n",
    "        for mutType in ['oncogenic', 'hotspot', 'stopGain', 'frameShiftIndel']:\n",
    "            for geneType in ['tsg', 'oncogene', 'all']:\n",
    "                geneMutType = geneType + '_' + mutType\n",
    "                localDict = nMutTypeDicts[geneMutType]\n",
    "                localD['N_' + geneMutType] = localDict[case] if case in localDict else None\n",
    "        \n",
    "        listOfDicts.append(localD)\n",
    "        \n",
    "    return pd.DataFrame(listOfDicts)\n",
    "    \n",
    "    \n",
    "    "
   ]
  },
  {
   "cell_type": "code",
   "execution_count": 30,
   "metadata": {},
   "outputs": [],
   "source": [
    "allImpactMutsMaf = pd.read_table(filePathDict['IMPACT_BASE_MAF'])\n",
    "dfTableOne = create_table_one(allImpactMutsMaf)\n",
    "dfTableOne.to_csv('/Users/friedman/Desktop/hypermutationProjectFinal/tables/table1.tsv', index=False, sep='\\t')"
   ]
  }
 ],
 "metadata": {
  "kernelspec": {
   "display_name": "Python 2",
   "language": "python",
   "name": "python2"
  },
  "language_info": {
   "codemirror_mode": {
    "name": "ipython",
    "version": 2
   },
   "file_extension": ".py",
   "mimetype": "text/x-python",
   "name": "python",
   "nbconvert_exporter": "python",
   "pygments_lexer": "ipython2",
   "version": "2.7.15"
  }
 },
 "nbformat": 4,
 "nbformat_minor": 2
}
