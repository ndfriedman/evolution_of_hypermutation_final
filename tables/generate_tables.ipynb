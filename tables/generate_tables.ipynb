{
 "cells": [
  {
   "cell_type": "code",
   "execution_count": 2,
   "metadata": {},
   "outputs": [],
   "source": [
    "import sys\n",
    "import argparse\n",
    "import os\n",
    "import pandas as pd\n",
    "import numpy as np\n",
    "import math\n",
    "import re\n",
    "from collections import Counter\n",
    "\n",
    "\n",
    "sys.path.append('/Users/friedman/Desktop/hypermutationProjectFinal/scripts/utilityScripts')\n",
    "import configuration_util\n",
    "import get_gene_and_cohort_list_utils\n",
    "filePathDict = configuration_util.get_all_files_path_dict()"
   ]
  },
  {
   "cell_type": "markdown",
   "metadata": {},
   "source": [
    "## TABLE 1\n",
    "Summary of IMPACT data <br></br>\n",
    "Columns: **DMP, TMB, IS_MSI, DOMINANT_SIGNATURE, CANCER_TYPE, HYPERMUTATION_STATUS, N_ONCOGENIC, N_HOTSPOT, N_TRUNCATING, N_TRUNCATING_TSG, N_TRUNCATING_ONCOGENE, N_HOTSPOT_TSG, N_HOTSPOT_ONCOGENE**"
   ]
  },
  {
   "cell_type": "code",
   "execution_count": 33,
   "metadata": {},
   "outputs": [],
   "source": [
    "def get_per_case_mut_info(muts, mutType='oncogenic', geneType='all'):\n",
    "    tsgs = get_gene_and_cohort_list_utils.get_tsgs()\n",
    "    oncogenes = get_gene_and_cohort_list_utils.get_oncogenes()\n",
    "    \n",
    "    if geneType == 'tsg':\n",
    "        muts = muts[muts['Hugo_Symbol'].isin(tsgs)]\n",
    "    if geneType == 'oncogene':\n",
    "        muts = muts[muts['Hugo_Symbol'].isin(oncogenes)]\n",
    "    \n",
    "    if mutType == 'oncogenic':\n",
    "        muts = muts[muts['oncogenic'].notnull()]\n",
    "    if mutType == 'hotspot':\n",
    "        muts = muts[muts['is-a-hotspot'] == 'Y']\n",
    "    if mutType == 'stopGain':\n",
    "        muts = muts[muts['Variant_Classification'] == 'Nonsense_Mutation']\n",
    "    if mutType == 'frameShiftIndel':\n",
    "        muts = muts[muts['Variant_Classification'].isin(set(['Frame_Shift_Del', 'Frame_Shift_Ins']))]\n",
    "        \n",
    "    infoDict = dict(muts['Tumor_Sample_Barcode'].value_counts())\n",
    "    return infoDict\n",
    "\n",
    "def create_table_one(maf):\n",
    "    \n",
    "    listOfDicts = []\n",
    "    hypermutantIds = get_gene_and_cohort_list_utils.get_all_hypermutant_ids(hypermutantIdDir=filePathDict['HYPERMUTATION_STATUS_IDS'])\n",
    "    normalIds = get_gene_and_cohort_list_utils.get_all_normal_ids(hypermutantIdDir=filePathDict['HYPERMUTATION_STATUS_IDS'])\n",
    "    tmbDict = get_gene_and_cohort_list_utils.get_all_tmb_info(tmbFilePath = filePathDict['CASE_TMB_AND_MSI_STATS'])\n",
    "    dominantSignatureDict = get_gene_and_cohort_list_utils.get_hypermutator_signature_cohorts(impactSigsPath=filePathDict['IMPACT_SIGNATURE_DECOMPOSITIONS'])\n",
    "    msiCases = get_gene_and_cohort_list_utils.get_msi_cases(msiInfoFilePath = filePathDict['CASE_TMB_AND_MSI_STATS'])\n",
    "    cancerTypeDict = get_gene_and_cohort_list_utils.get_impact_cancer_type_info(impactCancerTypeInfoPath=filePathDict['CANCER_TYPE_INFO'])\n",
    "    \n",
    "    nMutTypeDicts = {}\n",
    "    for mutType in ['oncogenic', 'hotspot', 'stopGain', 'frameShiftIndel']:\n",
    "        for geneType in ['tsg', 'oncogene', 'all']:\n",
    "            geneMutType = geneType + '_' + mutType\n",
    "            nMutTypeDicts[geneMutType] = get_per_case_mut_info(maf, mutType=mutType, geneType=geneType)\n",
    "            \n",
    "        \n",
    "    #MAKE mut counts dict\n",
    "    for case in set(maf['Tumor_Sample_Barcode']):\n",
    "        localD = {'DMP': case}\n",
    "        localD['TMB'] = tmbDict[case]\n",
    "        localD['IS_MSI'] = True if case in msiCases else False\n",
    "        localD['DOMINANT_SIGNATURE'] = dominantSignatureDict[case] if case in dominantSignatureDict else None\n",
    "        localD['CANCER_TYPE'] = cancerTypeDict[case] if case in cancerTypeDict else None\n",
    "        localD['HYPERMUTATION_STATUS'] = 'HYPERMUTATED' if case in hypermutantIds else 'NORMAL' if case in normalIds else 'INDETERMINATE'\n",
    "        \n",
    "        for mutType in ['oncogenic', 'hotspot', 'stopGain', 'frameShiftIndel']:\n",
    "            for geneType in ['tsg', 'oncogene', 'all']:\n",
    "                geneMutType = geneType + '_' + mutType\n",
    "                localDict = nMutTypeDicts[geneMutType]\n",
    "                localD['N_' + geneMutType] = localDict[case] if case in localDict else 0\n",
    "        \n",
    "        listOfDicts.append(localD)\n",
    "        \n",
    "    return pd.DataFrame(listOfDicts)\n",
    "    \n",
    "    \n",
    "    "
   ]
  },
  {
   "cell_type": "code",
   "execution_count": 34,
   "metadata": {},
   "outputs": [
    {
     "name": "stderr",
     "output_type": "stream",
     "text": [
      "/anaconda2/lib/python2.7/site-packages/ipykernel_launcher.py:1: FutureWarning: read_table is deprecated, use read_csv instead, passing sep='\\t'.\n",
      "  \"\"\"Entry point for launching an IPython kernel.\n"
     ]
    }
   ],
   "source": [
    "allImpactMutsMaf = pd.read_table(filePathDict['IMPACT_BASE_MAF'])\n",
    "dfTableOne = create_table_one(allImpactMutsMaf)\n",
    "dfTableOne.to_csv('/Users/friedman/Desktop/hypermutationProjectFinal/tables/table1.tsv', index=False, sep='\\t')"
   ]
  },
  {
   "cell_type": "markdown",
   "metadata": {},
   "source": [
    "## TABLE 2\n",
    "Summary of EXOME hypermutator data <br></br>\n",
    "Columns: **TUMOR_SAMPLE_BARCODE, TMB, CANCER_TYPE, COHORT, N_TRUNCATING_TSG, N_TRUNCATING_ONCOGENE, N_TRUNCATING_ESSENTIAL, N_TRUNCATING_NEUTRAL**"
   ]
  },
  {
   "cell_type": "code",
   "execution_count": 78,
   "metadata": {},
   "outputs": [],
   "source": [
    "def get_n_truncating_by_gene_class(maf, genes):\n",
    "    truncatingConsequences = ['Nonsense_Mutation', 'Frame_Shift_Del', 'Frame_Shift_Ins']\n",
    "    geneClassTruncatingMaf = maf[(maf['Hugo_Symbol'].isin(genes)) & (maf['Variant_Classification'].isin(truncatingConsequences))]\n",
    "    return dict(geneClassTruncatingMaf['Tumor_Sample_Barcode'].value_counts())\n",
    "    \n",
    "def create_table_two(maf):\n",
    "    \n",
    "    EXOME_TMB_DENOMINATOR = 30.0 #the value we divide the number of exome non-synonymous muts by to get TMB MUST BE A FLOAT\n",
    "    nonSynonymousClassifications = [\"Frame_Shift_Del\", \"Frame_Shift_Ins\", \"In_Frame_Del\", \"In_Frame_Ins\", \"Missense_Mutation\", \"Nonsense_Mutation\", \"Splice_Site\", \"Translation_Start_Site\"]\n",
    "    nonSynomMaf = maf[maf['Variant_Classification'].isin(nonSynonymousClassifications)]\n",
    "    nmutDict = dict(nonSynomMaf['Tumor_Sample_Barcode'].value_counts())\n",
    "    cohortDict = dict(zip(maf['Tumor_Sample_Barcode'], maf['cohort']))\n",
    "    \n",
    "    tcgaCancerTypeDict = get_gene_and_cohort_list_utils.get_tcga_cancer_type_info(tcgaInfoPath = filePathDict['TCGA_CANCER_TYPE_INFO'])\n",
    "    impactCancerTypeDict = get_gene_and_cohort_list_utils.get_impact_cancer_type_info(impactCancerTypeInfoPath=filePathDict['CANCER_TYPE_INFO'])\n",
    "    \n",
    "    tsgs = get_gene_and_cohort_list_utils.get_tsgs()\n",
    "    oncogenes = get_gene_and_cohort_list_utils.get_oncogenes()\n",
    "    essentialGenes = get_gene_and_cohort_list_utils.get_essential_genes(depMapPath = filePathDict['DEP_MAP_DATA'], mode='getEssentialGenes')\n",
    "    neutralGenes = get_gene_and_cohort_list_utils.get_cancer_neutral_genes(depMapPath = filePathDict['DEP_MAP_DATA'])\n",
    "    geneTypes = {'tsg': tsgs, 'oncogene': oncogenes, 'essential': essentialGenes, 'neutral': neutralGenes}\n",
    "    countDicts = {}\n",
    "    for geneType, genes in geneTypes.items():\n",
    "        countDicts[geneType] = get_n_truncating_by_gene_class(nonSynomMaf, genes)\n",
    "    \n",
    "    listOfDicts = []\n",
    "    for case in set(maf['Tumor_Sample_Barcode']):\n",
    "        localD = {'Tumor_Sample_Barcode': case}\n",
    "        localD['COHORT'] = cohortDict[case]\n",
    "        localD['TMB'] = nmutDict[case]/EXOME_TMB_DENOMINATOR\n",
    "        localD['CANCER_TYPE'] = tcgaCancerTypeDict[case[:12]] if case[:12] in tcgaCancerTypeDict else impactCancerTypeDict[case] if case in impactCancerTypeDict else None\n",
    "        for geneType, geneDict in countDicts.items():\n",
    "            localD['N_truncating_' + geneType] = geneDict[case] if case in geneDict else 0\n",
    "        listOfDicts.append(localD)\n",
    "    \n",
    "    df = pd.DataFrame(listOfDicts)\n",
    "    \n",
    "    #summarize per/mb rates of truncating mutation\n",
    "    geneLengthInfo = pd.read_table(filePathDict['GENE_LENGTH_INFO'])\n",
    "    geneLengthDict = dict(zip(geneLengthInfo['hgnc_symbol'], geneLengthInfo['nt.length']))\n",
    "    neutralGenePanelSize = sum([value for key, value in geneLengthDict.items() if key in neutralGenes])\n",
    "    tsgPanelSize = sum([value for key, value in geneLengthDict.items() if key in tsgs])\n",
    "    oncogenePanelSize = sum([value for key, value in geneLengthDict.items() if key in oncogenes])\n",
    "    essentialPanelSize = sum([value for key, value in geneLengthDict.items() if key in essentialGenes])\n",
    "\n",
    "    df['NEUTRAL_TRUNCATING_RATE'] = df['N_truncating_neutral'].apply(lambda x:\n",
    "            (1.0*1e6*x)/neutralGenePanelSize)\n",
    "    df['ESSENTIAL_TRUNCATING_RATE'] = df['N_truncating_essential'].apply(lambda x:\n",
    "            (1.0*1e6*x)/essentialPanelSize)\n",
    "    df['ONCOGENE_TRUNCATING_RATE'] = df['N_truncating_oncogene'].apply(lambda x:\n",
    "            (1.0*1e6*x)/oncogenePanelSize)\n",
    "    df['TSG_TRUNCATING_RATE'] = df['N_truncating_tsg'].apply(lambda x:\n",
    "            (1.0*1e6*x)/tsgPanelSize)\n",
    "    \n",
    "    return df\n",
    "        \n",
    "    "
   ]
  },
  {
   "cell_type": "code",
   "execution_count": 31,
   "metadata": {},
   "outputs": [
    {
     "name": "stderr",
     "output_type": "stream",
     "text": [
      "/anaconda2/lib/python2.7/site-packages/ipykernel_launcher.py:1: FutureWarning: read_table is deprecated, use read_csv instead, passing sep='\\t'.\n",
      "  \"\"\"Entry point for launching an IPython kernel.\n",
      "/anaconda2/lib/python2.7/site-packages/IPython/core/interactiveshell.py:2714: DtypeWarning: Columns (0,1,2,3,4,5,6,7,9,12,17,19,20,22,25,26,27,29,30,31,32,35,36,50,51,52,54,55,56,57,58,65,66,68,69,73,74,75,82,84,85,89,90,91,92,93,94,95,96,97,101,102,104,106,110,111,112,113,117,118,120,123,124,125,128,135,136,137,138,144,147,150,151,154,155,158,160,161,190,192,200,212,213,214,215,218,219,235,236,238,239,240,242,280,283,286,287,306,307,308,309,312,314,315) have mixed types. Specify dtype option on import or set low_memory=False.\n",
      "  interactivity=interactivity, compiler=compiler, result=result)\n"
     ]
    }
   ],
   "source": [
    "allExomeMaf = pd.read_table(filePathDict['ALL_EXOME_HYPERMUTATOR_MAF'])"
   ]
  },
  {
   "cell_type": "code",
   "execution_count": 79,
   "metadata": {},
   "outputs": [
    {
     "name": "stderr",
     "output_type": "stream",
     "text": [
      "/anaconda2/lib/python2.7/site-packages/ipykernel_launcher.py:39: FutureWarning: read_table is deprecated, use read_csv instead, passing sep='\\t'.\n"
     ]
    }
   ],
   "source": [
    "dfTableTwo = create_table_two(allExomeMaf)\n",
    "dfTableTwo.to_csv('/Users/friedman/Desktop/hypermutationProjectFinal/tables/table2.tsv', index=False, sep='\\t')\n"
   ]
  },
  {
   "cell_type": "markdown",
   "metadata": {},
   "source": [
    "## Table 3\n",
    "currently table3 is the all possible mutations in IMPACT table"
   ]
  },
  {
   "cell_type": "markdown",
   "metadata": {},
   "source": [
    "## Table 4\n",
    "currently table4 is the chance of a x_type mutation in each gene based on the signatures present in the case"
   ]
  },
  {
   "cell_type": "markdown",
   "metadata": {},
   "source": [
    "## Table 5\n",
    "Gene mutation information"
   ]
  },
  {
   "cell_type": "code",
   "execution_count": 93,
   "metadata": {},
   "outputs": [],
   "source": [
    "def create_table_five(maf, clonalInfoMaf):\n",
    "    \n",
    "    def get_dnds_summary_information(dndsData):\n",
    "        dndsData['cancerType_gene'] = dndsData.apply(lambda row: str(row['cancerType']) + '_' + str(row['gene_name']), axis=1)\n",
    "        m_dndsData = dndsData.groupby('cancerType_gene').sum()\n",
    "        return dict(zip(m_dndsData.index, m_dndsData['qglobal_cv.Normal'])),  dict(zip(m_dndsData.index, m_dndsData['qglobal_cv.Hypermutated']))\n",
    "    \n",
    "    def get_maf_summary_information(maf):\n",
    "        maf['count'] = 1\n",
    "        maf['cancerType_gene'] = maf.apply(lambda row: str(row['cancerType']) + '_' + str(row['Hugo_Symbol']), axis=1)\n",
    "        truncatingConsequences = ['Nonsense_Mutation', 'Frame_Shift_Del', 'Frame_Shift_Ins']\n",
    "        truncatingDriverMaf = maf[maf['Variant_Classification'].isin(truncatingConsequences)]\n",
    "        missenseDriverMaf = maf[~maf['Variant_Classification'].isin(truncatingConsequences)]\n",
    "\n",
    "        m_missense = missenseDriverMaf.groupby('cancerType_gene').sum()\n",
    "        m_truncating = truncatingDriverMaf.groupby('cancerType_gene').sum()\n",
    "        \n",
    "        print m_truncating.columns.values\n",
    "        return dict(zip(m_missense.index, m_missense['count'])), dict(zip(m_truncating.index, m_truncating['count']))\n",
    "    \n",
    "    def get_phasing_summary_information(phasingMaf):\n",
    "        phasingMaf = phasingMaf[(phasingMaf['oncogenic.1'].notnull()) & (phasingMaf['oncogenic.2'].notnull())]\n",
    "        phasingMaf['count'] = 1\n",
    "        phasingMaf['cancerType_gene'] = phasingMaf.apply(lambda row: str(row['cancerType']) + '_' + str(row['Hugo_Symbol']), axis=1)\n",
    "\n",
    "        transMaf = phasingMaf[phasingMaf['phase'] == 'trans']\n",
    "        cisMaf = phasingMaf[phasingMaf['phase'] == 'cis']\n",
    "        m_trans = transMaf.groupby('cancerType_gene').sum()\n",
    "        m_cis = cisMaf.groupby('cancerType_gene').sum()\n",
    "        return dict(zip(m_trans.index, m_trans['count'])), dict(zip(m_cis.index, m_cis['count']))\n",
    "    \n",
    "    def summarize_clonality_info(clonalInfoMaf):\n",
    "        clonalInfoMaf['isClonalBinary'] = clonalInfoMaf['isClonal'].apply(lambda x: 1 if x == True else 0 if x == False else None)\n",
    "        clonalInfoMaf['cancerType_gene'] = clonalInfoMaf.apply(lambda row: str(row['cancerType']) + '_' + str(row['Hugo_Symbol']), axis=1)\n",
    "        m_clonality = clonalInfoMaf.groupby('cancerType_gene').agg(np.nanmean)\n",
    "        return dict(zip(m_clonality.index, m_clonality['isClonalBinary']))\n",
    "        \n",
    "    #THIS table is only about drivers in hypermutated cases\n",
    "    hypermutantIds = get_gene_and_cohort_list_utils.get_all_hypermutant_ids(hypermutantIdDir=filePathDict['HYPERMUTATION_STATUS_IDS'])\n",
    "    cancerTypeDict = get_gene_and_cohort_list_utils.get_impact_cancer_type_info(impactCancerTypeInfoPath=filePathDict['CANCER_TYPE_INFO'])\n",
    "\n",
    "    #Driver summaries\n",
    "    print 'summarizing drivers'\n",
    "    maf = maf[maf['Tumor_Sample_Barcode'].isin(hypermutantIds)] \n",
    "    maf = maf[maf['oncogenic'].notnull()]\n",
    "    maf['varUuid'] = maf.apply(lambda row: str(row['Tumor_Sample_Barcode']) + '_' +\n",
    "                               str(row['Start_Position']) + '_' + str(row['Tumor_Seq_Allele2']), axis=1)\n",
    "    driverVariants = set(maf['varUuid'])\n",
    "    maf['cancerType'] = maf['Tumor_Sample_Barcode'].apply(lambda x: cancerTypeDict[x] if x in cancerTypeDict else None)\n",
    "    missenseDict, truncatingDict = get_maf_summary_information(maf)\n",
    "    \n",
    "    #Phasing summaries\n",
    "    print 'summarizing phasing'\n",
    "    phasingSummary = pd.read_table(filePathDict['PHASING_SUMMARY']) #note currently we ignore cases called 'trans or separate cells'\n",
    "    phasingSummary = phasingSummary[phasingSummary['Tumor_Sample_Barcode'].isin(hypermutantIds)]\n",
    "    phasingSummary['cancerType'] = phasingSummary['Tumor_Sample_Barcode'].apply(lambda x: cancerTypeDict[x] if x in cancerTypeDict else None)\n",
    "    transDict, cisDict = get_phasing_summary_information(phasingSummary)\n",
    "    \n",
    "    #DNDS summaries\n",
    "    print 'summarizing dnds data'\n",
    "    dndsData = pd.read_table(filePathDict['DNDS_RESULTS'])\n",
    "    dndsData['cancerType'] = dndsData['cancerType'].apply(lambda x: re.sub('_', ' ', x))\n",
    "    dndsNormalDict, dndsHyperDict = get_dnds_summary_information(dndsData)\n",
    "    \n",
    "    #Clonality summaries\n",
    "    print 'summarizing clonality info'\n",
    "    clonalInfoMaf = clonalInfoMaf[clonalInfoMaf['Tumor_Sample_Barcode'].isin(hypermutantIds)]\n",
    "    clonalInfoMaf['varUuid'] = clonalInfoMaf.apply(lambda row: str(row['Tumor_Sample_Barcode']) + '_' +\n",
    "                               str(row['Start_Position']) + '_' + str(row['Tumor_Seq_Allele2']), axis=1)\n",
    "    clonalInfoMaf = clonalInfoMaf[clonalInfoMaf['varUuid'].isin(driverVariants)]\n",
    "    clonalInfoMaf['cancerType'] = clonalInfoMaf['Tumor_Sample_Barcode'].apply(lambda x: cancerTypeDict[x] if x in cancerTypeDict else None)\n",
    "    clonalityDict = summarize_clonality_info(clonalInfoMaf)  \n",
    "    \n",
    "    impactGenes = get_gene_and_cohort_list_utils.get_im6_genes()\n",
    "    listOfDicts = []\n",
    "    for cancerType in set(maf['cancerType']):\n",
    "        for gene in impactGenes:\n",
    "            key = cancerType + '_' + gene\n",
    "            localD = {'GENE': gene, 'IS_RELATED': None, 'CANCER_TYPE': cancerType}\n",
    "            localD['N_PHASE_TRANS'] = transDict[key] if key in transDict else None\n",
    "            localD['N_PHASE_CIS'] = cisDict[key] if key in cisDict else None\n",
    "            localD['DNDS_NORMAL_SCORE'] = dndsNormalDict[key] if key in dndsNormalDict else None\n",
    "            localD['DNDS_HYPER_SCORE'] = dndsHyperDict[key] if key in dndsHyperDict else None\n",
    "            localD['N_MISSENSE_DRIVER'] = missenseDict[key] if key in missenseDict else None\n",
    "            localD['N_TRUNCATING_DRIVER'] = truncatingDict[key] if key in truncatingDict else None\n",
    "            localD['FRACTION_DRIVERS_CLONAL'] = clonalityDict[key] if key in clonalityDict else None\n",
    "            \n",
    "            listOfDicts.append(localD)\n",
    "    df = pd.DataFrame(listOfDicts)\n",
    "    df['N_DRIVER'] = df['N_MISSENSE_DRIVER'] + df['N_TRUNCATING_DRIVER']\n",
    "    return df\n"
   ]
  },
  {
   "cell_type": "code",
   "execution_count": 97,
   "metadata": {},
   "outputs": [],
   "source": [
    "allImpactMutsMaf = pd.read_table(filePathDict['IMPACT_BASE_MAF'])\n",
    "clonalityMaf = pd.read_csv(filePathDict['IMPACT_MAF_WITH_ADJUSTED_CLONALITY_ANNOTATION'])\n",
    "dfTableFive = create_table_five(allImpactMutsMaf, clonalityMaf)\n",
    "dfTableFive.to_csv('/Users/friedman/Desktop/hypermutationProjectFinal/tables/table5.tsv', index=False, sep='\\t')"
   ]
  }
 ],
 "metadata": {
  "kernelspec": {
   "display_name": "Python 2",
   "language": "python",
   "name": "python2"
  },
  "language_info": {
   "codemirror_mode": {
    "name": "ipython",
    "version": 2
   },
   "file_extension": ".py",
   "mimetype": "text/x-python",
   "name": "python",
   "nbconvert_exporter": "python",
   "pygments_lexer": "ipython2",
   "version": "2.7.15"
  }
 },
 "nbformat": 4,
 "nbformat_minor": 2
}
