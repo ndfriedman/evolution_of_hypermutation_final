{
 "cells": [
  {
   "cell_type": "markdown",
   "metadata": {},
   "source": [
    "## Code for Noah's Hypermutation Project<br><br/>\n",
    "Run the code in this notebook to generate the files used for analysis and the figures themselves.  <br><br/>\n",
    "Code runs by referencing paths in the file: fileDirectory.txt\n",
    "The first section of this notebook describes how to create files for analysis.  The second part creates the figures.  The final files are already included so you can skip ahead if you would like"
   ]
  },
  {
   "cell_type": "code",
   "execution_count": 3,
   "metadata": {},
   "outputs": [],
   "source": [
    "import sys\n",
    "import os\n",
    "\n",
    "#TODO make \n",
    "sys.path.append('/Users/friedman/Desktop/hypermutationProjectFinal/scripts/utilityScripts')\n",
    "import configuration_util\n",
    "filePathDict = configuration_util.get_all_files_path_dict()"
   ]
  },
  {
   "cell_type": "markdown",
   "metadata": {},
   "source": [
    "# Generation of analysis files"
   ]
  },
  {
   "cell_type": "markdown",
   "metadata": {},
   "source": [
    "**Classification of hypermutated tumors**<br><br/>\n"
   ]
  },
  {
   "cell_type": "code",
   "execution_count": null,
   "metadata": {},
   "outputs": [],
   "source": [
    "cmd = ' '.join(['python', filePathDict['SCRIPT_DEFINE_HYPERMUTATION_THRESHOLDS'])\n",
    "os.popen(cmd)"
   ]
  },
  {
   "cell_type": "markdown",
   "metadata": {},
   "source": [
    "**Deconvolution of mutational signatures**<br><br/>\n",
    "Deconvolutions are run separately on IMPACT samples, exome samples, and labeled branches"
   ]
  },
  {
   "cell_type": "code",
   "execution_count": null,
   "metadata": {},
   "outputs": [],
   "source": [
    "#IMPACT\n",
    "cmd = ''\n",
    "#EXOME\n",
    "cmd = ''\n",
    "#BRANCHING SIGNATURES\n",
    "cmd = ''"
   ]
  },
  {
   "cell_type": "markdown",
   "metadata": {},
   "source": [
    "**Estimating the expected number of consequential mutations: Nucleotide context method**<br/>\n",
    "Enumerate all possible mutation mafs"
   ]
  },
  {
   "cell_type": "code",
   "execution_count": null,
   "metadata": {},
   "outputs": [],
   "source": [
    "cmd = ''"
   ]
  },
  {
   "cell_type": "markdown",
   "metadata": {},
   "source": [
    "**Identifying tumor subclones and copy number**<br><br/>\n",
    "On our compute cluster we ran the FACETs algorithm with the following parameters:?\n",
    "On the cluster we then summarize these results through a shared codebase: python myUtils/create_cncf_or_rdata_file_list.py then python prepare_maf_anno_commands.py then /juno/work/taylorlab/friedman/myUtils/runMafAnno.sh which calls myUtils/runAnnotateMaf.R then combine results with python concat_maf_util.py /juno/work/taylorlab/friedman/myAdjustedDataFiles/mafAnnoRuns/annotatedMafs /juno/work/taylorlab/friedman/myAdjustedDataFiles/mafAnnoRuns/combined_cncf_annotated.maf"
   ]
  },
  {
   "cell_type": "code",
   "execution_count": null,
   "metadata": {},
   "outputs": [],
   "source": [
    "#adjust clonality calls for hypermutated tumors with flat genomes:\n",
    "#this command takes ~1hr to run\n",
    "cmd = ' '.join(['python', filePathDict['SCRIPT_ADJUST_CLONALITY_CALLS'],\n",
    "                filePathDict['files/mafs/combined_cncf_annotated.maf'], filePathDict['IMPACT_MAF_WITH_ADJUSTED_CLONALITY_ANNOTATION'], 'IMPACT'])\n",
    "os.popen(cmd)"
   ]
  },
  {
   "cell_type": "markdown",
   "metadata": {},
   "source": [
    "**DNDS ANALYSIS**"
   ]
  },
  {
   "cell_type": "markdown",
   "metadata": {},
   "source": [
    "**Mutation Atribution**<br><br/>\n",
    "Attributes mutations to signatures as done in Alex's paper.  We use different thresholds for attribution to account for the different characteristics of hypermutated cases"
   ]
  },
  {
   "cell_type": "code",
   "execution_count": null,
   "metadata": {},
   "outputs": [],
   "source": [
    "cmd = ' '.join(['python', filePathDict['SCRIPT_ATTRIBUTE_MUTATIONS_TO_SIGNATURES'],\n",
    "                filePathDict['SIGNATURE_SPECTRUM'], '.', '1', '10',\n",
    "                filePathDict['IMPACT_SIGNATURE_DECOMPOSITIONS'], filePathDict['OUTPUT_FILE_TODO_CHANGE'],\n",
    "                'agingIsAlwaysPresent', 'doSmokingCorrection'])\n",
    "os.popen(cmd)"
   ]
  },
  {
   "cell_type": "markdown",
   "metadata": {},
   "source": [
    "**PHASING**<br><br/>\n",
    "results are generated using methods described in: ALEX's paper"
   ]
  },
  {
   "cell_type": "markdown",
   "metadata": {},
   "source": [
    "**Constructing Phylogenetic Trees**"
   ]
  },
  {
   "cell_type": "markdown",
   "metadata": {},
   "source": [
    "# Generate Figures"
   ]
  },
  {
   "cell_type": "markdown",
   "metadata": {},
   "source": [
    "**FIGURE 1**"
   ]
  },
  {
   "cell_type": "code",
   "execution_count": null,
   "metadata": {},
   "outputs": [],
   "source": [
    "#FIGURE 1A \n",
    "#FIGURE 1B\n",
    "filePathDict['SCRIPT_GENERATE_PLOT_FIGURE_1bc']\n",
    "#FIGURE 1C\n",
    "filePathDict['SCRIPT_GENERATE_PLOT_FIGURE_1bc']\n",
    "#FIGURE 1D\n",
    "filePathDict['SCRIPT_GENERATE_PLOT_FIGURE_1d']\n",
    "#FIGURE 1E\n",
    "filePathDict['SCRIPT_GENERATE_PLOT_FIGURE_1e']\n",
    "#FIGURE 1F\n",
    "filePathDict['SCRIPT_GENERATE_PLOT_FIGURE_1f']"
   ]
  },
  {
   "cell_type": "markdown",
   "metadata": {},
   "source": [
    "**FIGURE 2**"
   ]
  },
  {
   "cell_type": "code",
   "execution_count": null,
   "metadata": {},
   "outputs": [],
   "source": [
    "#FIGURE 2A \n",
    "filePathDict['SCRIPT_GENERATE_PLOT_FIGURE_2ac']\n",
    "#FIGURE 2B\n",
    "#FIGURE 2C\n",
    "filePathDict['SCRIPT_GENERATE_PLOT_FIGURE_2ac']\n",
    "#FIGURE 2D\n",
    "filePathDict['SCRIPT_GENERATE_PLOT_FIGURE_2d']\n",
    "#FIGURE 2E"
   ]
  },
  {
   "cell_type": "markdown",
   "metadata": {},
   "source": [
    "**FIGURE 3**"
   ]
  },
  {
   "cell_type": "code",
   "execution_count": null,
   "metadata": {},
   "outputs": [],
   "source": [
    "#FIGURE 3A\n",
    "#FIGURE 3B\n",
    "#FIGURE 3C\n",
    "#FIGURE 3D\n",
    "#FIGURE 3E\n",
    "filePathDict['SCRIPT_GENERATE_PLOT_FIGURE_3e']"
   ]
  },
  {
   "cell_type": "markdown",
   "metadata": {},
   "source": [
    "**FIGURE 4**"
   ]
  }
 ],
 "metadata": {
  "kernelspec": {
   "display_name": "Python 2",
   "language": "python",
   "name": "python2"
  },
  "language_info": {
   "codemirror_mode": {
    "name": "ipython",
    "version": 2
   },
   "file_extension": ".py",
   "mimetype": "text/x-python",
   "name": "python",
   "nbconvert_exporter": "python",
   "pygments_lexer": "ipython2",
   "version": "2.7.15"
  }
 },
 "nbformat": 4,
 "nbformat_minor": 2
}
