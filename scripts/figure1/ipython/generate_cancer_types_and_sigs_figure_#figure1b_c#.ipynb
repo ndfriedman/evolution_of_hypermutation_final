{
 "cells": [
  {
   "cell_type": "code",
   "execution_count": 12,
   "metadata": {},
   "outputs": [],
   "source": [
    "import sys\n",
    "import argparse\n",
    "import os\n",
    "import pandas as pd\n",
    "import numpy as np\n",
    "import math\n",
    "import re\n",
    "from collections import Counter\n",
    "\n",
    "sys.path.append('/Users/friedman/Desktop/hypermutationProjectFinal/scripts/utilityScripts')\n",
    "import configuration_util"
   ]
  },
  {
   "cell_type": "code",
   "execution_count": 2,
   "metadata": {},
   "outputs": [],
   "source": [
    "def summarize_n_hypermutated_and_signatures_of_cases(mutClassificationDir):\n",
    "    nCasesSummaryL = []\n",
    "    signaturesSummaryL = []\n",
    "    for f in os.listdir(mutClassificationDir):\n",
    "        cancerType = re.sub('.tsv', '', f)\n",
    "        filePath = os.path.join(mutClassificationDir, f)\n",
    "        df = pd.read_table(filePath)\n",
    "        hypermutatedDf = df[df['hypermutantClassification'] == 'Hypermutated']\n",
    "        highMutBurdenDf = df[df['hypermutantClassification'] == 'highMutationBurden']\n",
    "        \n",
    "        nCasesSummaryL.append({'cancerType': cancerType,\n",
    "        'nHypermutated': hypermutatedDf.shape[0], 'nTotal': df.shape[0], 'nHighMutBurden': highMutBurdenDf.shape[0]})\n",
    "    \n",
    "        #TODO make the code for plotting the signatures\n",
    "        signatureCounter = Counter(hypermutatedDf['dominantSignature'])\n",
    "        for signature, count in signatureCounter.items():\n",
    "            signature = re.sub('mean_', '', signature)\n",
    "            signaturesSummaryL.append({'cancerType': cancerType,\n",
    "                'signature': signature, 'nCases': count, \n",
    "                'nHypermutatedCases': hypermutatedDf.shape[0], 'nTotal': df.shape[0]})\n",
    "        \n",
    "    casesSummaryDf = pd.DataFrame(nCasesSummaryL)\n",
    "    signaturesSummaryDf = pd.DataFrame(signaturesSummaryL)\n",
    "    return casesSummaryDf, signaturesSummaryDf\n",
    "        "
   ]
  },
  {
   "cell_type": "code",
   "execution_count": 3,
   "metadata": {},
   "outputs": [],
   "source": [
    "def summarize_dominant_signatures_of_cases(mutClassificationDir = '/Users/friedman/Desktop/hypermutationStatusIds/'):\n",
    "    d = {}\n",
    "    for f in os.listdir(mutClassificationDir):\n",
    "        cancerType = re.sub('.tsv', '', f)\n",
    "        filePath = os.path.join(mutClassificationDir, f)\n",
    "        df = pd.read_table(filePath)\n",
    "        hypermutatedDf = df[df['hypermutantClassification'] == 'Hypermutated']\n",
    "        domSigDict = dict(zip(hypermutatedDf['Tumor_Sample_Barcode'], hypermutatedDf['dominantSignature']))\n",
    "        for tsb, domSig in domSigDict.items():\n",
    "            d[tsb] = domSig\n",
    "    return d"
   ]
  },
  {
   "cell_type": "code",
   "execution_count": null,
   "metadata": {},
   "outputs": [],
   "source": [
    "filePathDict = configuration_util.get_all_files_path_dict()"
   ]
  },
  {
   "cell_type": "code",
   "execution_count": 13,
   "metadata": {},
   "outputs": [],
   "source": [
    "casesSummary, signaturesSummary = summarize_n_hypermutated_and_signatures_of_cases(\n",
    "    mutClassificationDir = filePathDict['HYPERMUTATION_STATUS_IDS'])"
   ]
  },
  {
   "cell_type": "code",
   "execution_count": 16,
   "metadata": {},
   "outputs": [],
   "source": [
    "dominantSignatureDict = summarize_dominant_signatures_of_cases(\n",
    "    mutClassificationDir = filePathDict['HYPERMUTATION_STATUS_IDS'])"
   ]
  },
  {
   "cell_type": "code",
   "execution_count": 17,
   "metadata": {},
   "outputs": [],
   "source": [
    "#ADJUST THE CASES SUMMARY INFORMATION\n",
    "minNCasesToDisplay = 250 #lump all cancers with fewer than this number of cases as other\n",
    "casesSummary['cancerType'] = casesSummary.apply(lambda row: 'other' if row['nTotal'] < minNCasesToDisplay else row['cancerType'] ,axis=1)\n"
   ]
  },
  {
   "cell_type": "code",
   "execution_count": 18,
   "metadata": {},
   "outputs": [],
   "source": [
    "#ADJUST THE SIGNATURES SUMMARY INFORMATION\n",
    "minNHypermutatedCasesToDisplay = 10\n",
    "signaturesSummary['cancerType'] = signaturesSummary.apply(\n",
    "    lambda row: 'other' if row['nHypermutatedCases'] < minNHypermutatedCasesToDisplay else row['cancerType'] ,axis=1)\n",
    "signaturesSummary['orderingVal'] = signaturesSummary.apply(\n",
    "    lambda row: -1 if row['cancerType'] == 'other' else row['nHypermutatedCases'], axis=1)\n",
    "\n",
    "signaturesRenameDict = {'1': 'MMR', 'SMOKING': 'SMOKING',\n",
    "                        'MMR': 'MMR', 'APOBEC': 'APOBEC', '10': 'POLE',\n",
    "                       '11': 'TMZ', '14': 'POLE&MMR', '7': 'UV'}\n",
    "signaturesSummary['signature'] = signaturesSummary['signature'].apply(lambda x:\n",
    "        signaturesRenameDict[x] if x in signaturesRenameDict else 'other')"
   ]
  },
  {
   "cell_type": "code",
   "execution_count": 19,
   "metadata": {},
   "outputs": [],
   "source": [
    "cancersOfIndeterminateOrigin = set(['Cancer_of_Unknown_Primary', 'Skin_Cancer,_Non-Melanoma'])  #remove cancers of indeterminate origin\n",
    "signaturesSummary = signaturesSummary[~signaturesSummary['cancerType'].isin(cancersOfIndeterminateOrigin)]\n",
    "casesSummary = casesSummary[~casesSummary['cancerType'].isin(cancersOfIndeterminateOrigin)]\n"
   ]
  },
  {
   "cell_type": "code",
   "execution_count": null,
   "metadata": {},
   "outputs": [],
   "source": [
    "writePath = os.path.join(os.get_cwd(), 'FIGURE1_PLOTTING_FILES')"
   ]
  },
  {
   "cell_type": "code",
   "execution_count": 9,
   "metadata": {},
   "outputs": [],
   "source": [
    "signaturesSummary.to_csv('/Users/friedman/Desktop/WORK/dataForLocalPlotting/figure1cSignatureSummary.tsv', index=False, sep='\\t')\n",
    "casesSummary.to_csv('/Users/friedman/Desktop/WORK/dataForLocalPlotting/figure1bCancerTypeSummary.tsv', index=False, sep='\\t')"
   ]
  },
  {
   "cell_type": "code",
   "execution_count": null,
   "metadata": {},
   "outputs": [],
   "source": [
    "def get_per_case_nmut_mb_info(nmutDfPath = pathPrefix + '/ifs/work/taylorlab/friedman/hypermutationAnalysisProj/projectDataAndConfigFiles/nmutInfo_impact_filtered.tsv'):\n",
    "    df = pd.read_table(nmutDfPath)\n",
    "    return dict(zip(df['Tumor_Sample_Barcode'], df['Nmut_Mb']))"
   ]
  }
 ],
 "metadata": {
  "kernelspec": {
   "display_name": "Python 2",
   "language": "python",
   "name": "python2"
  },
  "language_info": {
   "codemirror_mode": {
    "name": "ipython",
    "version": 2
   },
   "file_extension": ".py",
   "mimetype": "text/x-python",
   "name": "python",
   "nbconvert_exporter": "python",
   "pygments_lexer": "ipython2",
   "version": "2.7.15"
  }
 },
 "nbformat": 4,
 "nbformat_minor": 2
}
