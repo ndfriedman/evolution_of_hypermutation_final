{
 "cells": [
  {
   "cell_type": "code",
   "execution_count": 2,
   "metadata": {},
   "outputs": [],
   "source": [
    "import sys\n",
    "import argparse\n",
    "import os\n",
    "import pandas as pd\n",
    "import numpy as np\n",
    "import re\n",
    "\n",
    "pathPrefix = '/Users/friedman/Desktop/mnt'\n",
    "sys.path.append(pathPrefix + '/juno/work/taylorlab/friedman/myUtils')\n",
    "import analysis_utils\n",
    "import mutationSigUtils\n",
    "import maf_analysis_utils"
   ]
  },
  {
   "cell_type": "code",
   "execution_count": 3,
   "metadata": {},
   "outputs": [],
   "source": [
    "def get_per_case_oncogenic_mut_info(muts):\n",
    "    oncogenicMuts = muts[muts['oncogenic'].notnull()]\n",
    "    nMutOncDict = dict(oncogenicMuts['Tumor_Sample_Barcode'].value_counts())\n",
    "    return nMutOncDict\n",
    "\n",
    "def get_per_case_hotspot_mut_info(muts):\n",
    "    hotspotMuts = muts[muts['is-a-hotspot'] == 'Y']\n",
    "    nHotspotDict = dict(hotspotMuts['Tumor_Sample_Barcode'].value_counts())\n",
    "    return nHotspotDict\n"
   ]
  },
  {
   "cell_type": "code",
   "execution_count": 4,
   "metadata": {},
   "outputs": [
    {
     "name": "stderr",
     "output_type": "stream",
     "text": [
      "/anaconda2/lib/python2.7/site-packages/IPython/core/interactiveshell.py:2878: DtypeWarning: Columns (4,17,18,64,71,74,128,130,131,132,135,137) have mixed types. Specify dtype option on import or set low_memory=False.\n",
      "  exec(code_obj, self.user_global_ns, self.user_ns)\n"
     ]
    },
    {
     "name": "stdout",
     "output_type": "stream",
     "text": [
      "3.01 percent done\n"
     ]
    },
    {
     "name": "stderr",
     "output_type": "stream",
     "text": [
      "/anaconda2/lib/python2.7/site-packages/IPython/core/interactiveshell.py:2878: DtypeWarning: Columns (4,43,44,131,132,137) have mixed types. Specify dtype option on import or set low_memory=False.\n",
      "  exec(code_obj, self.user_global_ns, self.user_ns)\n"
     ]
    },
    {
     "name": "stdout",
     "output_type": "stream",
     "text": [
      "6.03 percent done\n"
     ]
    },
    {
     "name": "stderr",
     "output_type": "stream",
     "text": [
      "/anaconda2/lib/python2.7/site-packages/IPython/core/interactiveshell.py:2878: DtypeWarning: Columns (4,125,133,137) have mixed types. Specify dtype option on import or set low_memory=False.\n",
      "  exec(code_obj, self.user_global_ns, self.user_ns)\n"
     ]
    },
    {
     "name": "stdout",
     "output_type": "stream",
     "text": [
      "9.04 percent done\n"
     ]
    },
    {
     "name": "stderr",
     "output_type": "stream",
     "text": [
      "/anaconda2/lib/python2.7/site-packages/IPython/core/interactiveshell.py:2878: DtypeWarning: Columns (4,40,41,125,128,129,130,131,132,133,137) have mixed types. Specify dtype option on import or set low_memory=False.\n",
      "  exec(code_obj, self.user_global_ns, self.user_ns)\n"
     ]
    },
    {
     "name": "stdout",
     "output_type": "stream",
     "text": [
      "12.05 percent done\n",
      "15.07 percent done\n"
     ]
    },
    {
     "name": "stderr",
     "output_type": "stream",
     "text": [
      "/anaconda2/lib/python2.7/site-packages/IPython/core/interactiveshell.py:2878: DtypeWarning: Columns (4,17,18,40,41,43,44,125,133,137) have mixed types. Specify dtype option on import or set low_memory=False.\n",
      "  exec(code_obj, self.user_global_ns, self.user_ns)\n"
     ]
    },
    {
     "name": "stdout",
     "output_type": "stream",
     "text": [
      "18.08 percent done\n"
     ]
    },
    {
     "name": "stderr",
     "output_type": "stream",
     "text": [
      "/anaconda2/lib/python2.7/site-packages/IPython/core/interactiveshell.py:2878: DtypeWarning: Columns (4,43,44,128,130,131,132,133,134,135,137) have mixed types. Specify dtype option on import or set low_memory=False.\n",
      "  exec(code_obj, self.user_global_ns, self.user_ns)\n"
     ]
    },
    {
     "name": "stdout",
     "output_type": "stream",
     "text": [
      "21.1 percent done\n"
     ]
    },
    {
     "name": "stderr",
     "output_type": "stream",
     "text": [
      "/anaconda2/lib/python2.7/site-packages/IPython/core/interactiveshell.py:2878: DtypeWarning: Columns (17,18,43,44,125,131,132,137) have mixed types. Specify dtype option on import or set low_memory=False.\n",
      "  exec(code_obj, self.user_global_ns, self.user_ns)\n"
     ]
    },
    {
     "name": "stdout",
     "output_type": "stream",
     "text": [
      "24.11 percent done\n"
     ]
    },
    {
     "name": "stderr",
     "output_type": "stream",
     "text": [
      "/anaconda2/lib/python2.7/site-packages/IPython/core/interactiveshell.py:2878: DtypeWarning: Columns (4,17,18,43,44,131,132,133,137) have mixed types. Specify dtype option on import or set low_memory=False.\n",
      "  exec(code_obj, self.user_global_ns, self.user_ns)\n"
     ]
    },
    {
     "name": "stdout",
     "output_type": "stream",
     "text": [
      "27.12 percent done\n"
     ]
    },
    {
     "name": "stderr",
     "output_type": "stream",
     "text": [
      "/anaconda2/lib/python2.7/site-packages/IPython/core/interactiveshell.py:2878: DtypeWarning: Columns (4,17,18,43,44,125,128,130,131,132,133,137) have mixed types. Specify dtype option on import or set low_memory=False.\n",
      "  exec(code_obj, self.user_global_ns, self.user_ns)\n"
     ]
    },
    {
     "name": "stdout",
     "output_type": "stream",
     "text": [
      "30.14 percent done\n"
     ]
    },
    {
     "name": "stderr",
     "output_type": "stream",
     "text": [
      "/anaconda2/lib/python2.7/site-packages/IPython/core/interactiveshell.py:2878: DtypeWarning: Columns (43,44,125,130,131,132,137) have mixed types. Specify dtype option on import or set low_memory=False.\n",
      "  exec(code_obj, self.user_global_ns, self.user_ns)\n"
     ]
    },
    {
     "name": "stdout",
     "output_type": "stream",
     "text": [
      "33.15 percent done\n"
     ]
    },
    {
     "name": "stderr",
     "output_type": "stream",
     "text": [
      "/anaconda2/lib/python2.7/site-packages/IPython/core/interactiveshell.py:2878: DtypeWarning: Columns (4,17,18,125) have mixed types. Specify dtype option on import or set low_memory=False.\n",
      "  exec(code_obj, self.user_global_ns, self.user_ns)\n"
     ]
    },
    {
     "name": "stdout",
     "output_type": "stream",
     "text": [
      "36.16 percent done\n"
     ]
    },
    {
     "name": "stderr",
     "output_type": "stream",
     "text": [
      "/anaconda2/lib/python2.7/site-packages/IPython/core/interactiveshell.py:2878: DtypeWarning: Columns (4,43,44,71,125,128,129,130,133,135,137) have mixed types. Specify dtype option on import or set low_memory=False.\n",
      "  exec(code_obj, self.user_global_ns, self.user_ns)\n"
     ]
    },
    {
     "name": "stdout",
     "output_type": "stream",
     "text": [
      "39.18 percent done\n"
     ]
    },
    {
     "name": "stderr",
     "output_type": "stream",
     "text": [
      "/anaconda2/lib/python2.7/site-packages/IPython/core/interactiveshell.py:2878: DtypeWarning: Columns (17,18,71,74,108,113,114,115,116,117,118,119,120,121,122,125,131,133,134,137) have mixed types. Specify dtype option on import or set low_memory=False.\n",
      "  exec(code_obj, self.user_global_ns, self.user_ns)\n"
     ]
    },
    {
     "name": "stdout",
     "output_type": "stream",
     "text": [
      "42.19 percent done\n"
     ]
    },
    {
     "name": "stderr",
     "output_type": "stream",
     "text": [
      "/anaconda2/lib/python2.7/site-packages/IPython/core/interactiveshell.py:2878: DtypeWarning: Columns (4,43,44,125,131,132,133,134,137) have mixed types. Specify dtype option on import or set low_memory=False.\n",
      "  exec(code_obj, self.user_global_ns, self.user_ns)\n"
     ]
    },
    {
     "name": "stdout",
     "output_type": "stream",
     "text": [
      "45.21 percent done\n"
     ]
    },
    {
     "name": "stderr",
     "output_type": "stream",
     "text": [
      "/anaconda2/lib/python2.7/site-packages/IPython/core/interactiveshell.py:2878: DtypeWarning: Columns (125,129,130,131,132,133,135,137) have mixed types. Specify dtype option on import or set low_memory=False.\n",
      "  exec(code_obj, self.user_global_ns, self.user_ns)\n"
     ]
    },
    {
     "name": "stdout",
     "output_type": "stream",
     "text": [
      "48.22 percent done\n"
     ]
    },
    {
     "name": "stderr",
     "output_type": "stream",
     "text": [
      "/anaconda2/lib/python2.7/site-packages/IPython/core/interactiveshell.py:2878: DtypeWarning: Columns (4,43,44,125,133,137) have mixed types. Specify dtype option on import or set low_memory=False.\n",
      "  exec(code_obj, self.user_global_ns, self.user_ns)\n"
     ]
    },
    {
     "name": "stdout",
     "output_type": "stream",
     "text": [
      "51.23 percent done\n"
     ]
    },
    {
     "name": "stderr",
     "output_type": "stream",
     "text": [
      "/anaconda2/lib/python2.7/site-packages/IPython/core/interactiveshell.py:2878: DtypeWarning: Columns (17,18,43,44,131,132,134,135,137) have mixed types. Specify dtype option on import or set low_memory=False.\n",
      "  exec(code_obj, self.user_global_ns, self.user_ns)\n"
     ]
    },
    {
     "name": "stdout",
     "output_type": "stream",
     "text": [
      "54.25 percent done\n"
     ]
    },
    {
     "name": "stderr",
     "output_type": "stream",
     "text": [
      "/anaconda2/lib/python2.7/site-packages/IPython/core/interactiveshell.py:2878: DtypeWarning: Columns (17,18,43,44,108,128,129,131,132,134) have mixed types. Specify dtype option on import or set low_memory=False.\n",
      "  exec(code_obj, self.user_global_ns, self.user_ns)\n"
     ]
    },
    {
     "name": "stdout",
     "output_type": "stream",
     "text": [
      "57.26 percent done\n"
     ]
    },
    {
     "name": "stderr",
     "output_type": "stream",
     "text": [
      "/anaconda2/lib/python2.7/site-packages/IPython/core/interactiveshell.py:2878: DtypeWarning: Columns (17,18,43,44,128,130,131,132,137) have mixed types. Specify dtype option on import or set low_memory=False.\n",
      "  exec(code_obj, self.user_global_ns, self.user_ns)\n"
     ]
    },
    {
     "name": "stdout",
     "output_type": "stream",
     "text": [
      "60.27 percent done\n"
     ]
    },
    {
     "name": "stderr",
     "output_type": "stream",
     "text": [
      "/anaconda2/lib/python2.7/site-packages/IPython/core/interactiveshell.py:2878: DtypeWarning: Columns (17,18,43,44,131,132,133,137) have mixed types. Specify dtype option on import or set low_memory=False.\n",
      "  exec(code_obj, self.user_global_ns, self.user_ns)\n"
     ]
    },
    {
     "name": "stdout",
     "output_type": "stream",
     "text": [
      "63.29 percent done\n"
     ]
    },
    {
     "name": "stderr",
     "output_type": "stream",
     "text": [
      "/anaconda2/lib/python2.7/site-packages/IPython/core/interactiveshell.py:2878: DtypeWarning: Columns (4) have mixed types. Specify dtype option on import or set low_memory=False.\n",
      "  exec(code_obj, self.user_global_ns, self.user_ns)\n"
     ]
    },
    {
     "name": "stdout",
     "output_type": "stream",
     "text": [
      "66.3 percent done\n"
     ]
    },
    {
     "name": "stderr",
     "output_type": "stream",
     "text": [
      "/anaconda2/lib/python2.7/site-packages/IPython/core/interactiveshell.py:2878: DtypeWarning: Columns (17,18,125,131,132,137) have mixed types. Specify dtype option on import or set low_memory=False.\n",
      "  exec(code_obj, self.user_global_ns, self.user_ns)\n"
     ]
    },
    {
     "name": "stdout",
     "output_type": "stream",
     "text": [
      "69.31 percent done\n"
     ]
    },
    {
     "name": "stderr",
     "output_type": "stream",
     "text": [
      "/anaconda2/lib/python2.7/site-packages/IPython/core/interactiveshell.py:2878: DtypeWarning: Columns (4,17,18,43,44,133,137) have mixed types. Specify dtype option on import or set low_memory=False.\n",
      "  exec(code_obj, self.user_global_ns, self.user_ns)\n"
     ]
    },
    {
     "name": "stdout",
     "output_type": "stream",
     "text": [
      "72.33 percent done\n"
     ]
    },
    {
     "name": "stderr",
     "output_type": "stream",
     "text": [
      "/anaconda2/lib/python2.7/site-packages/IPython/core/interactiveshell.py:2878: DtypeWarning: Columns (4,40,43,44,125) have mixed types. Specify dtype option on import or set low_memory=False.\n",
      "  exec(code_obj, self.user_global_ns, self.user_ns)\n"
     ]
    },
    {
     "name": "stdout",
     "output_type": "stream",
     "text": [
      "75.34 percent done\n"
     ]
    },
    {
     "name": "stderr",
     "output_type": "stream",
     "text": [
      "/anaconda2/lib/python2.7/site-packages/IPython/core/interactiveshell.py:2878: DtypeWarning: Columns (17,18) have mixed types. Specify dtype option on import or set low_memory=False.\n",
      "  exec(code_obj, self.user_global_ns, self.user_ns)\n"
     ]
    },
    {
     "name": "stdout",
     "output_type": "stream",
     "text": [
      "78.36 percent done\n"
     ]
    },
    {
     "name": "stderr",
     "output_type": "stream",
     "text": [
      "/anaconda2/lib/python2.7/site-packages/IPython/core/interactiveshell.py:2878: DtypeWarning: Columns (17,18,43,44,108) have mixed types. Specify dtype option on import or set low_memory=False.\n",
      "  exec(code_obj, self.user_global_ns, self.user_ns)\n"
     ]
    },
    {
     "name": "stdout",
     "output_type": "stream",
     "text": [
      "81.37 percent done\n"
     ]
    },
    {
     "name": "stderr",
     "output_type": "stream",
     "text": [
      "/anaconda2/lib/python2.7/site-packages/IPython/core/interactiveshell.py:2878: DtypeWarning: Columns (108,129,130,137) have mixed types. Specify dtype option on import or set low_memory=False.\n",
      "  exec(code_obj, self.user_global_ns, self.user_ns)\n"
     ]
    },
    {
     "name": "stdout",
     "output_type": "stream",
     "text": [
      "84.38 percent done\n"
     ]
    },
    {
     "name": "stderr",
     "output_type": "stream",
     "text": [
      "/anaconda2/lib/python2.7/site-packages/IPython/core/interactiveshell.py:2878: DtypeWarning: Columns (17,18,40,41,43,44,128,131,132,134) have mixed types. Specify dtype option on import or set low_memory=False.\n",
      "  exec(code_obj, self.user_global_ns, self.user_ns)\n"
     ]
    },
    {
     "name": "stdout",
     "output_type": "stream",
     "text": [
      "87.4 percent done\n"
     ]
    },
    {
     "name": "stderr",
     "output_type": "stream",
     "text": [
      "/anaconda2/lib/python2.7/site-packages/IPython/core/interactiveshell.py:2878: DtypeWarning: Columns (17,18,40) have mixed types. Specify dtype option on import or set low_memory=False.\n",
      "  exec(code_obj, self.user_global_ns, self.user_ns)\n"
     ]
    },
    {
     "name": "stdout",
     "output_type": "stream",
     "text": [
      "90.41 percent done\n"
     ]
    },
    {
     "name": "stderr",
     "output_type": "stream",
     "text": [
      "/anaconda2/lib/python2.7/site-packages/IPython/core/interactiveshell.py:2878: DtypeWarning: Columns (135) have mixed types. Specify dtype option on import or set low_memory=False.\n",
      "  exec(code_obj, self.user_global_ns, self.user_ns)\n"
     ]
    },
    {
     "name": "stdout",
     "output_type": "stream",
     "text": [
      "93.42 percent done\n",
      "96.44 percent done\n",
      "99.45 percent done\n",
      "102.46 percent done\n",
      "performing big concat then returning\n"
     ]
    }
   ],
   "source": [
    "allImpactMuts = analysis_utils.load_in_df_with_progress(pathPrefix + '/juno/work/taylorlab/friedman/myAdjustedDataFiles/data_mutations_extended_annotated_nov19_2019.maf', 331821)"
   ]
  },
  {
   "cell_type": "code",
   "execution_count": 11,
   "metadata": {},
   "outputs": [],
   "source": [
    "perCaseOncogenicInfo = get_per_case_oncogenic_mut_info(allImpactMuts)\n",
    "perCaseHotspotInfo = get_per_case_hotspot_mut_info(allImpactMuts)"
   ]
  },
  {
   "cell_type": "code",
   "execution_count": 6,
   "metadata": {},
   "outputs": [],
   "source": [
    "normalEndometrial = analysis_utils.get_ids_by_hypermutant_status(hypermutantIdDir=pathPrefix +'/juno/work/taylorlab/friedman/hypermutationAnalysisProj/projectDataAndConfigFiles/hypermutationStatusIds', cancerType='Endometrial Cancer', hypermutantStatus = 'Normal')\n",
    "normalColorectal = analysis_utils.get_ids_by_hypermutant_status(hypermutantIdDir=pathPrefix +'/juno/work/taylorlab/friedman/hypermutationAnalysisProj/projectDataAndConfigFiles/hypermutationStatusIds', cancerType='Colorectal Cancer', hypermutantStatus = 'Normal') | analysis_utils.get_ids_by_hypermutant_status(hypermutantIdDir=pathPrefix +'/ifs/work/taylorlab/friedman/hypermutationAnalysisProj/projectDataAndConfigFiles/hypermutationStatusIds', cancerType='Colon Adenocarcinoma', hypermutantStatus = 'Normal')\n",
    "normalGlioma = analysis_utils.get_ids_by_hypermutant_status(hypermutantIdDir=pathPrefix +'/juno/work/taylorlab/friedman/hypermutationAnalysisProj/projectDataAndConfigFiles/hypermutationStatusIds', cancerType='Glioma', hypermutantStatus = 'Normal')\n",
    "\n",
    "hyperEndometrial = analysis_utils.get_ids_by_hypermutant_status(hypermutantIdDir=pathPrefix +'/juno/work/taylorlab/friedman/hypermutationAnalysisProj/projectDataAndConfigFiles/hypermutationStatusIds', cancerType='Endometrial Cancer', hypermutantStatus = 'Hypermutated')\n",
    "hyperColorectal = analysis_utils.get_ids_by_hypermutant_status(hypermutantIdDir=pathPrefix +'/juno/work/taylorlab/friedman/hypermutationAnalysisProj/projectDataAndConfigFiles/hypermutationStatusIds', cancerType='Colorectal Cancer', hypermutantStatus = 'Hypermutated') | analysis_utils.get_ids_by_hypermutant_status(hypermutantIdDir=pathPrefix +'/ifs/work/taylorlab/friedman/hypermutationAnalysisProj/projectDataAndConfigFiles/hypermutationStatusIds', cancerType='Colon Adenocarcinoma', hypermutantStatus = 'Hypermutated')\n",
    "hyperGlioma = analysis_utils.get_ids_by_hypermutant_status(hypermutantIdDir=pathPrefix +'/juno/work/taylorlab/friedman/hypermutationAnalysisProj/projectDataAndConfigFiles/hypermutationStatusIds', cancerType='Glioma', hypermutantStatus = 'Hypermutated')\n"
   ]
  },
  {
   "cell_type": "code",
   "execution_count": null,
   "metadata": {},
   "outputs": [],
   "source": [
    "otherNormal = set([])\n",
    "otherHypermutated = set([])\n",
    "#these are the cancer types that we will ignore here\n",
    "hypermutantIdDir=pathPrefix +'/juno/work/taylorlab/friedman/hypermutationAnalysisProj/projectDataAndConfigFiles/hypermutationStatusIds'\n",
    "print 'heyyy'\n",
    "for f in os.listdir(hypermutantIdDir):\n",
    "    print f\n",
    "    cType = re.sub('_', ' ', f)[:-4]\n",
    "    otherNormal = otherNormal | analysis_utils.get_ids_by_hypermutant_status(hypermutantIdDir=hypermutantIdDir, cancerType=cType, hypermutantStatus = 'Normal')\n",
    "    otherHypermutated = otherHypermutated | analysis_utils.get_ids_by_hypermutant_status(hypermutantIdDir=hypermutantIdDir, cancerType=cType, hypermutantStatus = 'Hypermutated')\n"
   ]
  },
  {
   "cell_type": "code",
   "execution_count": 34,
   "metadata": {},
   "outputs": [],
   "source": [
    "#a dict mapping cohorts to names\n",
    "cohortsAndNames = {'normal_Endometrial': normalEndometrial, 'normal_Colorectal': normalColorectal, 'normal_Glioma': normalGlioma,\n",
    "                  'hyper_Endometrial': hyperEndometrial, 'hyper_Colorectal': hyperColorectal, 'hyper_Glioma': hyperGlioma,\n",
    "                   'normal_Other': otherNormal, 'hyper_Other': otherHypermutated\n",
    "                  }\n",
    "\n",
    "listOfDicts = []\n",
    "for cohortName, cohort in cohortsAndNames.items():\n",
    "    for tid in cohort:\n",
    "        #dominantSignature = None\n",
    "        nOncogenicMuts = None\n",
    "        nHotspotMuts = None\n",
    "        #if tid in dominantSignaturesDict:\n",
    "        #    dominantSignature = dominantSignaturesDict[tid]\n",
    "        if tid in perCaseOncogenicInfo:\n",
    "            nOncogenicMuts = perCaseOncogenicInfo[tid]\n",
    "        if tid in perCaseHotspotInfo:\n",
    "            nHotspotMuts = perCaseHotspotInfo[tid]\n",
    "        \n",
    "        listOfDicts.append({'Tumor_Sample_Barcode': tid, 'nOncMuts': nOncogenicMuts,\n",
    "                            'nHotspots': nHotspotMuts, 'cohort': cohortName,\n",
    "                           })\n",
    "\n",
    "df = pd.DataFrame(listOfDicts)\n",
    "            "
   ]
  },
  {
   "cell_type": "code",
   "execution_count": 36,
   "metadata": {},
   "outputs": [],
   "source": [
    "orderingValDict = {'normal_Colorectal': 1, 'hyper_Colorectal': 2, 'normal_Endometrial': 3, 'hyper_Endometrial': 4,\n",
    "                  'normal_Glioma': 5, 'hyper_Glioma': 6, 'normal_Other': 7, 'hyper_Other': 8}\n",
    "\n",
    "df['orderingVal'] = df['cohort'].apply(lambda x: orderingValDict[x])\n",
    "df['cancerType'] = df['cohort'].apply(lambda x: x.split('_')[1])"
   ]
  },
  {
   "cell_type": "code",
   "execution_count": 28,
   "metadata": {},
   "outputs": [
    {
     "data": {
      "text/plain": [
       "\"df['dominantSignatureAdjusted'] = df.apply(lambda row: None if 'normal' in row['cohort'].lower() \\n                                           else row['DominantSignature'] if row['DominantSignature'] in set(['mean_10', 'mean_11', 'mean_MMR', 'mean_14'])\\n                                           else 'Other', axis=1)\\n\\nsigRenameDict = {'mean_10': 'POLE', 'mean_11': 'TMZ', 'mean_14': 'POLE+MMR', 'mean_MMR': 'MMR'}\\ndf['dominantSignatureAdjusted'] = df['dominantSignatureAdjusted'].apply(lambda x: sigRenameDict[x] if x in sigRenameDict else x)\""
      ]
     },
     "execution_count": 28,
     "metadata": {},
     "output_type": "execute_result"
    }
   ],
   "source": [
    "\"\"\"df['dominantSignatureAdjusted'] = df.apply(lambda row: None if 'normal' in row['cohort'].lower() \n",
    "                                           else row['DominantSignature'] if row['DominantSignature'] in set(['mean_10', 'mean_11', 'mean_MMR', 'mean_14'])\n",
    "                                           else 'Other', axis=1)\n",
    "\n",
    "sigRenameDict = {'mean_10': 'POLE', 'mean_11': 'TMZ', 'mean_14': 'POLE+MMR', 'mean_MMR': 'MMR'}\n",
    "df['dominantSignatureAdjusted'] = df['dominantSignatureAdjusted'].apply(lambda x: sigRenameDict[x] if x in sigRenameDict else x)\"\"\""
   ]
  },
  {
   "cell_type": "code",
   "execution_count": 37,
   "metadata": {},
   "outputs": [],
   "source": [
    "df.to_csv('/Users/friedman/Desktop/WORK/dataForLocalPlotting/nOncMutByCohort.tsv', index=False, sep = '\\t')"
   ]
  },
  {
   "cell_type": "code",
   "execution_count": 13,
   "metadata": {},
   "outputs": [
    {
     "data": {
      "text/plain": [
       "<module 'get_gene_and_cohort_list_utils' from '/Users/friedman/Desktop/mnt/juno/work/taylorlab/friedman/myUtils/get_gene_and_cohort_list_utils.py'>"
      ]
     },
     "execution_count": 13,
     "metadata": {},
     "output_type": "execute_result"
    }
   ],
   "source": [
    "sys.path.append(pathPrefix + '/juno/work/taylorlab/friedman/myUtils')\n",
    "import get_gene_and_cohort_list_utils\n",
    "reload(get_gene_and_cohort_list_utils)"
   ]
  },
  {
   "cell_type": "code",
   "execution_count": 14,
   "metadata": {},
   "outputs": [
    {
     "name": "stdout",
     "output_type": "stream",
     "text": [
      "CNS_Cancer.tsv\n",
      "Soft_Tissue_Sarcoma.tsv\n",
      "Salivary_Gland_Cancer.tsv\n",
      "Glioma.tsv\n",
      "Bladder_Cancer.tsv\n",
      "Small_Cell_Lung_Cancer.tsv\n",
      "Prostate_Cancer.tsv\n",
      "Endometrial_Cancer.tsv\n",
      "Appendiceal_Cancer.tsv\n",
      "Gastrointestinal_Stromal_Tumor.tsv\n",
      "Breast_Cancer.tsv\n",
      "Thyroid_Cancer.tsv\n",
      "Esophagogastric_Cancer.tsv\n",
      "Uterine_Sarcoma.tsv\n",
      "Ovarian_Cancer.tsv\n",
      "Mature_B-Cell_Neoplasms.tsv\n",
      "Hepatobiliary_Cancer.tsv\n",
      "Cancer_of_Unknown_Primary.tsv\n",
      "Skin_Cancer,_Non-Melanoma.tsv\n",
      "Bone_Cancer.tsv\n",
      "Small_Bowel_Cancer.tsv\n",
      "Mesothelioma.tsv\n",
      "Melanoma.tsv\n",
      "Germ_Cell_Tumor.tsv\n",
      "Pancreatic_Cancer.tsv\n",
      "Colorectal_Cancer.tsv\n",
      "Cervical_Cancer.tsv\n",
      "Gastrointestinal_Neuroendocrine_Tumor.tsv\n",
      "Peripheral_Nervous_System.tsv\n",
      "Renal_Cell_Carcinoma.tsv\n",
      "Head_and_Neck_Cancer.tsv\n",
      "Uveal_Melanoma.tsv\n",
      "Non-Small_Cell_Lung_Cancer.tsv\n",
      "set(['P-0041440-T02-IM6', 'P-0023479-T01-IM6', 'P-0028172-T02-IM6', 'P-0028485-T01-IM6', 'P-0030089-T01-IM6', 'P-0040121-T01-IM6', 'P-0013968-T01-IM5', 'P-0039443-T01-IM6', 'P-0047380-T01-IM6', 'P-0003610-T01-IM5', 'P-0003235-T01-IM5', 'P-0021117-T02-IM6', 'P-0025215-T01-IM6', 'P-0008682-T01-IM5', 'P-0044576-T01-IM6', 'P-0043087-T01-IM6', 'P-0038638-T01-IM6', 'P-0022846-T01-IM6', 'P-0016633-T01-IM6', 'P-0017697-T01-IM6', 'P-0015885-T01-IM6', 'P-0004910-T01-IM5', 'P-0013029-T01-IM5', 'P-0024660-T01-IM6', 'P-0005127-T01-IM5', 'P-0028776-T01-IM6', 'P-0021744-T01-IM6', 'P-0036383-T01-IM6', 'P-0033811-T01-IM6', 'P-0040471-T01-IM6', 'P-0025389-T01-IM6', 'P-0017713-T01-IM6', 'P-0000951-T01-IM3', 'P-0047553-T01-IM6', 'P-0014388-T01-IM6', 'P-0015416-T01-IM6', 'P-0006216-T01-IM5', 'P-0026489-T01-IM6', 'P-0008032-T01-IM5', 'P-0039054-T01-IM6', 'P-0018542-T01-IM6', 'P-0034671-T02-IM6', 'P-0036028-T01-IM6', 'P-0015410-T01-IM6', 'P-0012230-T01-IM5', 'P-0045461-T01-IM6', 'P-0008388-T01-IM5', 'P-0019360-T01-IM6', 'P-0016838-T01-IM6', 'P-0044833-T01-IM6', 'P-0014258-T01-IM6', 'P-0035181-T02-IM6', 'P-0002998-T01-IM3', 'P-0034070-T01-IM6', 'P-0013060-T02-IM6', 'P-0040892-T01-IM6', 'P-0021519-T01-IM6', 'P-0020295-T01-IM6', 'P-0027858-T01-IM6', 'P-0013981-T01-IM5', 'P-0037946-T01-IM6', 'P-0004379-T01-IM5', 'P-0001685-T01-IM3', 'P-0017547-T02-IM6', 'P-0000558-T01-IM3', 'P-0013060-T01-IM5', 'P-0032567-T01-IM6', 'P-0036500-T01-IM6', 'P-0002347-T01-IM3', 'P-0016890-T01-IM6', 'P-0018781-T01-IM6', 'P-0046992-T01-IM6', 'P-0007969-T01-IM5', 'P-0042037-T01-IM6', 'P-0048166-T01-IM6', 'P-0033495-T01-IM6', 'P-0025952-T01-IM6', 'P-0005627-T02-IM5', 'P-0043370-T01-IM6', 'P-0008345-T01-IM5', 'P-0028970-T01-IM6', 'P-0003120-T01-IM5', 'P-0005372-T01-IM5', 'P-0035468-T01-IM6', 'P-0003045-T01-IM5', 'P-0014162-T01-IM5', 'P-0025242-T01-IM6', 'P-0025248-T01-IM6', 'P-0001882-T01-IM3', 'P-0040259-T01-IM6', 'P-0020133-T01-IM6', 'P-0031855-T01-IM6', 'P-0005926-T01-IM5', 'P-0017862-T01-IM6', 'P-0032777-T01-IM6', 'P-0001229-T01-IM3', 'P-0048176-T01-IM6', 'P-0012262-T01-IM5', 'P-0012726-T01-IM5', 'P-0009830-T01-IM5', 'P-0022520-T02-IM6', 'P-0003650-T01-IM5', 'P-0008466-T01-IM5', 'P-0007565-T01-IM5', 'P-0014495-T01-IM6', 'P-0040452-T01-IM6', 'P-0044347-T01-IM6', 'P-0014993-T01-IM6', 'P-0005842-T01-IM5', 'P-0023136-T02-IM6', 'P-0042199-T01-IM6', 'P-0006115-T01-IM5', 'P-0004382-T01-IM5', 'P-0046630-T01-IM6', 'P-0027637-T02-IM6', 'P-0021544-T01-IM6', 'P-0033253-T01-IM6', 'P-0023639-T01-IM6', 'P-0033100-T01-IM6', 'P-0039351-T01-IM6', 'P-0038542-T01-IM6', 'P-0024928-T01-IM6', 'P-0030908-T01-IM6', 'P-0045111-T01-IM6', 'P-0028932-T02-IM6', 'P-0015048-T01-IM6', 'P-0024733-T01-IM6', 'P-0019917-T01-IM6', 'P-0033425-T01-IM6', 'P-0012113-T01-IM5', 'P-0018841-T01-IM6', 'P-0025662-T01-IM6', 'P-0046394-T01-IM6', 'P-0000614-T01-IM3', 'P-0021894-T02-IM6', 'P-0009585-T01-IM5', 'P-0045343-T01-IM6', 'P-0045878-T01-IM6', 'P-0016782-T01-IM6', 'P-0030013-T01-IM6', 'P-0030205-T02-IM6', 'P-0018673-T01-IM6', 'P-0044415-T01-IM6', 'P-0040484-T01-IM6', 'P-0036230-T01-IM6', 'P-0005308-T01-IM5', 'P-0043940-T01-IM6', 'P-0045366-T01-IM6', 'P-0047121-T01-IM6', 'P-0000755-T01-IM3', 'P-0003167-T01-IM5', 'P-0004910-T04-IM5', 'P-0012891-T01-IM5', 'P-0040182-T01-IM6', 'P-0000883-T02-IM5', 'P-0005947-T01-IM5', 'P-0020322-T01-IM6', 'P-0044312-T01-IM6', 'P-0041166-T01-IM6', 'P-0033593-T02-IM6', 'P-0032394-T01-IM6', 'P-0001185-T01-IM3', 'P-0011345-T01-IM5', 'P-0032276-T01-IM6', 'P-0024243-T01-IM6', 'P-0038553-T01-IM6', 'P-0003292-T01-IM5', 'P-0021117-T01-IM6', 'P-0018172-T01-IM6', 'P-0012202-T01-IM5', 'P-0031956-T01-IM6', 'P-0039327-T01-IM6', 'P-0010649-T01-IM5', 'P-0006752-T01-IM5', 'P-0003665-T01-IM5', 'P-0042488-T01-IM6', 'P-0005619-T02-IM5', 'P-0035787-T01-IM6', 'P-0004400-T01-IM5', 'P-0026046-T01-IM6', 'P-0020069-T01-IM6', 'P-0023220-T01-IM6', 'P-0038612-T02-IM6', 'P-0011385-T01-IM5', 'P-0031059-T01-IM6', 'P-0026908-T01-IM6', 'P-0046491-T01-IM6', 'P-0016181-T01-IM6', 'P-0005309-T01-IM5', 'P-0023405-T01-IM6', 'P-0026663-T01-IM6', 'P-0024293-T01-IM6', 'P-0026278-T01-IM6', 'P-0001774-T01-IM3', 'P-0012748-T01-IM5', 'P-0047601-T01-IM6', 'P-0026456-T01-IM6', 'P-0007147-T01-IM5', 'P-0015573-T01-IM6', 'P-0026297-T01-IM6', 'P-0043518-T01-IM6', 'P-0021266-T01-IM6', 'P-0002049-T01-IM3', 'P-0004051-T01-IM5', 'P-0012463-T03-IM6', 'P-0002265-T02-IM5', 'P-0045460-T01-IM6', 'P-0019475-T01-IM6', 'P-0031211-T01-IM6', 'P-0030210-T01-IM6', 'P-0010929-T01-IM5', 'P-0033467-T01-IM6', 'P-0040341-T01-IM6', 'P-0028170-T01-IM6', 'P-0005359-T01-IM5', 'P-0042481-T01-IM6', 'P-0030048-T01-IM6', 'P-0003229-T01-IM5', 'P-0047256-T01-IM6', 'P-0039938-T01-IM6', 'P-0010382-T01-IM5', 'P-0020331-T01-IM6', 'P-0014544-T01-IM6', 'P-0030903-T01-IM6', 'P-0042782-T01-IM6', 'P-0041648-T01-IM6', 'P-0021433-T01-IM6', 'P-0012441-T01-IM5', 'P-0030296-T01-IM6', 'P-0017161-T01-IM6', 'P-0036882-T02-IM6', 'P-0032614-T01-IM6', 'P-0035161-T01-IM6', 'P-0012333-T01-IM5', 'P-0018515-T01-IM6', 'P-0024130-T02-IM6', 'P-0042052-T01-IM6', 'P-0002087-T01-IM3', 'P-0000083-T02-IM6', 'P-0026714-T01-IM6', 'P-0028427-T01-IM6', 'P-0020221-T01-IM6', 'P-0004260-T02-IM5', 'P-0028874-T01-IM6', 'P-0038755-T01-IM6', 'P-0041063-T02-IM6', 'P-0022010-T01-IM6', 'P-0039214-T01-IM6', 'P-0017583-T01-IM5', 'P-0040373-T01-IM6', 'P-0000372-T01-IM3', 'P-0014143-T01-IM5', 'P-0041629-T01-IM6', 'P-0003182-T01-IM5', 'P-0006849-T01-IM5', 'P-0046759-T01-IM6', 'P-0045974-T01-IM6', 'P-0016522-T01-IM6', 'P-0007917-T02-IM5', 'P-0046653-T02-IM6', 'P-0021292-T01-IM6', 'P-0009152-T01-IM5', 'P-0045872-T01-IM6', 'P-0036993-T01-IM6', 'P-0012402-T01-IM5', 'P-0028600-T01-IM6', 'P-0004754-T01-IM5', 'P-0009511-T03-IM6', 'P-0005443-T01-IM5', 'P-0010803-T01-IM5', 'P-0037041-T01-IM6', 'P-0030265-T01-IM6', 'P-0045253-T01-IM6', 'P-0012901-T01-IM5', 'P-0035164-T01-IM6', 'P-0043474-T01-IM6', 'P-0033668-T01-IM6', 'P-0006170-T01-IM5', 'P-0006470-T01-IM5', 'P-0029311-T01-IM6', 'P-0036882-T01-IM6', 'P-0006960-T01-IM5', 'P-0015532-T01-IM6', 'P-0004185-T03-IM6', 'P-0012928-T01-IM5', 'P-0035750-T01-IM6', 'P-0024219-T01-IM6', 'P-0037032-T01-IM6', 'P-0011239-T02-IM5', 'P-0036380-T01-IM6', 'P-0016505-T01-IM6', 'P-0024289-T01-IM6', 'P-0001198-T01-IM3', 'P-0033836-T01-IM6', 'P-0015821-T01-IM6', 'P-0011440-T01-IM5', 'P-0037042-T01-IM6', 'P-0001808-T01-IM3', 'P-0002903-T01-IM3', 'P-0037875-T01-IM6', 'P-0006437-T01-IM5', 'P-0042357-T02-IM6', 'P-0012445-T01-IM5', 'P-0013991-T02-IM6', 'P-0036505-T01-IM6', 'P-0047329-T01-IM6', 'P-0026678-T01-IM6', 'P-0019949-T01-IM6', 'P-0009258-T01-IM5', 'P-0022440-T02-IM6', 'P-0033122-T01-IM6', 'P-0023136-T01-IM6', 'P-0029983-T01-IM6', 'P-0030485-T01-IM6', 'P-0032120-T01-IM6', 'P-0047901-T01-IM6', 'P-0045825-T01-IM6', 'P-0025701-T01-IM6', 'P-0020009-T01-IM6', 'P-0012152-T01-IM5', 'P-0033382-T01-IM6', 'P-0017370-T01-IM6', 'P-0030260-T01-IM6', 'P-0044823-T01-IM6', 'P-0029104-T01-IM6', 'P-0033682-T01-IM6', 'P-0041882-T01-IM6', 'P-0003891-T01-IM5', 'P-0013400-T01-IM5', 'P-0003650-T02-IM6', 'P-0010331-T03-IM6', 'P-0002075-T01-IM3', 'P-0031490-T01-IM6', 'P-0024106-T01-IM6', 'P-0040021-T01-IM6', 'P-0044059-T01-IM6', 'P-0031721-T01-IM6', 'P-0040284-T01-IM6', 'P-0039441-T01-IM6', 'P-0012115-T01-IM5', 'P-0047599-T01-IM6', 'P-0019599-T01-IM6', 'P-0025330-T05-IM6', 'P-0041633-T01-IM6', 'P-0025715-T01-IM6', 'P-0001071-T01-IM3', 'P-0032161-T02-IM6', 'P-0031094-T01-IM6', 'P-0036860-T01-IM6', 'P-0013889-T01-IM5', 'P-0009428-T01-IM5', 'P-0031271-T01-IM6', 'P-0018238-T01-IM6', 'P-0021049-T01-IM6', 'P-0016596-T01-IM6', 'P-0008188-T01-IM5', 'P-0046065-T01-IM6', 'P-0036309-T01-IM6', 'P-0029690-T01-IM6', 'P-0019093-T01-IM6', 'P-0004239-T01-IM5', 'P-0013718-T01-IM5', 'P-0031374-T02-IM6', 'P-0032113-T01-IM6', 'P-0011252-T01-IM5', 'P-0032497-T01-IM6', 'P-0035180-T03-IM6', 'P-0001601-T01-IM3', 'P-0024068-T01-IM6', 'P-0010308-T01-IM5', 'P-0019199-T02-IM6', 'P-0001237-T02-IM6', 'P-0017159-T01-IM6', 'P-0044791-T01-IM6', 'P-0019098-T01-IM6', 'P-0011324-T01-IM5', 'P-0040575-T01-IM6', 'P-0043005-T01-IM6', 'P-0040838-T01-IM6', 'P-0021572-T01-IM6', 'P-0024866-T01-IM6', 'P-0021774-T01-IM6', 'P-0019264-T01-IM6', 'P-0044553-T01-IM6', 'P-0016112-T01-IM6', 'P-0012013-T02-IM6', 'P-0046843-T01-IM6', 'P-0038629-T01-IM6', 'P-0020042-T01-IM6', 'P-0024821-T01-IM6', 'P-0002394-T01-IM3', 'P-0010744-T01-IM5', 'P-0046739-T01-IM6', 'P-0004387-T03-IM6', 'P-0033995-T01-IM6', 'P-0017925-T01-IM6', 'P-0047801-T01-IM6', 'P-0026501-T01-IM6', 'P-0037227-T01-IM6', 'P-0045991-T01-IM6', 'P-0029169-T01-IM6', 'P-0027416-T01-IM6', 'P-0024650-T01-IM6', 'P-0027805-T01-IM6', 'P-0014588-T01-IM6', 'P-0025048-T01-IM6', 'P-0012455-T01-IM5', 'P-0039283-T01-IM6', 'P-0041855-T01-IM6', 'P-0046150-T01-IM6', 'P-0001882-T02-IM5', 'P-0038159-T01-IM6', 'P-0037288-T01-IM6', 'P-0011211-T01-IM5', 'P-0014780-T01-IM6', 'P-0045215-T01-IM6', 'P-0019837-T01-IM6', 'P-0014303-T01-IM6', 'P-0012201-T01-IM5', 'P-0018353-T01-IM6', 'P-0025917-T02-IM6', 'P-0038084-T01-IM6', 'P-0019978-T02-IM6', 'P-0002671-T01-IM3', 'P-0042985-T01-IM6', 'P-0022120-T01-IM6', 'P-0044540-T01-IM6', 'P-0018118-T02-IM6', 'P-0039704-T01-IM6', 'P-0020151-T01-IM6', 'P-0032602-T01-IM6', 'P-0030634-T01-IM6', 'P-0037898-T01-IM6', 'P-0036284-T01-IM6', 'P-0008226-T02-IM5', 'P-0035892-T01-IM6', 'P-0021157-T01-IM6', 'P-0047632-T01-IM6', 'P-0045320-T01-IM6', 'P-0005509-T01-IM5', 'P-0004011-T01-IM5', 'P-0045098-T01-IM6', 'P-0005918-T01-IM5', 'P-0020509-T01-IM6', 'P-0023968-T01-IM6', 'P-0041356-T01-IM6', 'P-0018100-T01-IM6', 'P-0027652-T01-IM6', 'P-0038520-T01-IM6', 'P-0023123-T01-IM6', 'P-0021483-T01-IM6', 'P-0000449-T02-IM5', 'P-0030951-T01-IM6', 'P-0042314-T01-IM6', 'P-0001325-T02-IM5', 'P-0030931-T01-IM6', 'P-0003325-T01-IM5', 'P-0037838-T02-IM6', 'P-0021856-T01-IM6', 'P-0016203-T01-IM6', 'P-0006571-T01-IM5', 'P-0034095-T01-IM6', 'P-0043154-T01-IM6', 'P-0016825-T01-IM6', 'P-0044695-T01-IM6', 'P-0005197-T01-IM5', 'P-0016657-T01-IM6', 'P-0045008-T01-IM6', 'P-0004188-T02-IM6', 'P-0003869-T01-IM5', 'P-0040992-T01-IM6', 'P-0012171-T02-IM6', 'P-0015368-T01-IM6', 'P-0009239-T01-IM5', 'P-0020633-T02-IM6', 'P-0019437-T01-IM6', 'P-0030774-T01-IM6', 'P-0012358-T01-IM5', 'P-0034737-T01-IM6', 'P-0035096-T01-IM6', 'P-0005783-T01-IM5', 'P-0019937-T01-IM6', 'P-0004602-T01-IM5', 'P-0016773-T01-IM6', 'P-0030257-T01-IM6', 'P-0004076-T01-IM5', 'P-0021220-T01-IM6', 'P-0043033-T02-IM6', 'P-0007790-T01-IM5', 'P-0002695-T01-IM3', 'P-0015772-T01-IM6', 'P-0023272-T01-IM6', 'P-0044184-T01-IM6', 'P-0003827-T02-IM6', 'P-0000964-T03-IM5', 'P-0045015-T01-IM6', 'P-0033251-T01-IM6', 'P-0018334-T01-IM6', 'P-0040616-T01-IM6', 'P-0038544-T01-IM6', 'P-0029323-T01-IM6', 'P-0005564-T01-IM5', 'P-0001115-T01-IM3', 'P-0028141-T01-IM6', 'P-0001248-T01-IM3', 'P-0013350-T01-IM5', 'P-0010581-T01-IM5', 'P-0044658-T01-IM6', 'P-0044217-T01-IM6', 'P-0019556-T02-IM6', 'P-0026521-T01-IM6', 'P-0040149-T01-IM6', 'P-0035794-T01-IM6', 'P-0013462-T01-IM5', 'P-0041346-T01-IM6', 'P-0023701-T01-IM6', 'P-0038880-T01-IM6', 'P-0006133-T01-IM5', 'P-0013676-T01-IM5', 'P-0020064-T01-IM6', 'P-0004783-T01-IM5', 'P-0034915-T01-IM6', 'P-0019319-T01-IM6', 'P-0029646-T01-IM6', 'P-0009006-T02-IM6', 'P-0013599-T01-IM5', 'P-0000285-T01-IM3', 'P-0025240-T01-IM6', 'P-0025453-T01-IM6', 'P-0023216-T01-IM6', 'P-0010167-T01-IM5', 'P-0039589-T01-IM6', 'P-0034618-T01-IM6', 'P-0042819-T01-IM6', 'P-0035755-T01-IM6', 'P-0009171-T01-IM5', 'P-0020473-T01-IM6', 'P-0016053-T01-IM6', 'P-0003951-T01-IM3', 'P-0012881-T01-IM5', 'P-0043052-T01-IM6', 'P-0007277-T01-IM5', 'P-0004910-T03-IM5', 'P-0005326-T01-IM5', 'P-0000069-T01-IM3', 'P-0003209-T01-IM5', 'P-0023250-T01-IM6', 'P-0028144-T01-IM6', 'P-0023307-T01-IM6', 'P-0047196-T01-IM6', 'P-0045984-T01-IM6', 'P-0034650-T01-IM6', 'P-0036740-T03-IM6', 'P-0009858-T01-IM5', 'P-0035031-T01-IM6', 'P-0020616-T01-IM6', 'P-0017538-T01-IM5', 'P-0016413-T01-IM6', 'P-0029980-T01-IM6', 'P-0032869-T01-IM6', 'P-0013218-T01-IM5', 'P-0005270-T02-IM6', 'P-0027438-T01-IM6', 'P-0045013-T01-IM6', 'P-0010420-T01-IM5', 'P-0032060-T01-IM6', 'P-0032827-T01-IM6', 'P-0002016-T01-IM3', 'P-0045120-T01-IM6', 'P-0041596-T01-IM6', 'P-0015252-T01-IM6', 'P-0039231-T01-IM6', 'P-0026523-T01-IM6', 'P-0001035-T01-IM3', 'P-0021393-T01-IM6', 'P-0021897-T01-IM6', 'P-0046266-T01-IM6', 'P-0035181-T01-IM6', 'P-0042660-T01-IM6', 'P-0007882-T01-IM5', 'P-0047374-T01-IM6', 'P-0034172-T01-IM6', 'P-0028804-T01-IM6', 'P-0039888-T01-IM6', 'P-0014756-T01-IM6', 'P-0041213-T01-IM6', 'P-0035790-T01-IM6', 'P-0008317-T01-IM5', 'P-0006979-T01-IM5', 'P-0045400-T01-IM6', 'P-0012678-T01-IM5', 'P-0027324-T01-IM6', 'P-0045372-T01-IM6', 'P-0030960-T01-IM6', 'P-0014994-T01-IM6', 'P-0045823-T01-IM6', 'P-0042256-T01-IM6', 'P-0032443-T01-IM6', 'P-0027375-T01-IM6', 'P-0028979-T01-IM6', 'P-0043206-T01-IM6', 'P-0041436-T01-IM6', 'P-0004614-T01-IM5', 'P-0017839-T01-IM6', 'P-0040798-T01-IM6', 'P-0011222-T01-IM5', 'P-0006863-T01-IM5', 'P-0037940-T01-IM6', 'P-0040759-T01-IM6', 'P-0026350-T01-IM6', 'P-0012740-T01-IM5', 'P-0013557-T01-IM5', 'P-0003161-T01-IM5', 'P-0020252-T01-IM6', 'P-0020173-T01-IM6', 'P-0019428-T01-IM6', 'P-0002294-T02-IM5', 'P-0020042-T02-IM6', 'P-0021670-T01-IM6', 'P-0039113-T01-IM6', 'P-0006753-T01-IM5', 'P-0006554-T01-IM5', 'P-0035147-T01-IM6', 'P-0004330-T01-IM5', 'P-0029732-T01-IM6', 'P-0032495-T01-IM6', 'P-0016904-T01-IM6', 'P-0031460-T01-IM6', 'P-0019741-T01-IM6', 'P-0043967-T01-IM6', 'P-0004379-T02-IM6', 'P-0025202-T01-IM6', 'P-0047363-T01-IM6', 'P-0047056-T01-IM6', 'P-0046264-T01-IM6', 'P-0027335-T01-IM6', 'P-0007076-T03-IM5', 'P-0023005-T01-IM6', 'P-0018204-T01-IM6', 'P-0025003-T01-IM6', 'P-0012088-T01-IM5', 'P-0029817-T01-IM6', 'P-0043095-T01-IM6', 'P-0037721-T01-IM6', 'P-0031332-T01-IM6', 'P-0045713-T01-IM6', 'P-0033108-T01-IM6', 'P-0039680-T01-IM6', 'P-0004738-T01-IM5', 'P-0039004-T01-IM6', 'P-0014162-T02-IM6', 'P-0012752-T01-IM5', 'P-0013787-T01-IM5', 'P-0025047-T01-IM6', 'P-0010569-T01-IM5', 'P-0021692-T01-IM6', 'P-0012848-T01-IM5', 'P-0041005-T01-IM6', 'P-0009985-T01-IM5', 'P-0035770-T01-IM6', 'P-0016188-T01-IM6', 'P-0001987-T01-IM3', 'P-0033494-T01-IM6', 'P-0040122-T01-IM6', 'P-0020399-T01-IM6', 'P-0038378-T01-IM6', 'P-0018437-T01-IM6', 'P-0013227-T01-IM5', 'P-0017995-T01-IM6', 'P-0040940-T01-IM6', 'P-0001420-T02-IM5', 'P-0007296-T01-IM5', 'P-0005783-T02-IM6', 'P-0025073-T01-IM6', 'P-0043017-T01-IM6', 'P-0036682-T01-IM6', 'P-0046997-T01-IM6', 'P-0039208-T01-IM6', 'P-0020242-T01-IM6', 'P-0001420-T01-IM3', 'P-0020271-T01-IM6', 'P-0025554-T01-IM6', 'P-0025195-T01-IM6', 'P-0042503-T01-IM6', 'P-0017786-T01-IM6', 'P-0037006-T01-IM6', 'P-0002957-T01-IM3', 'P-0001494-T01-IM3', 'P-0000012-T03-IM3', 'P-0046698-T01-IM6', 'P-0019871-T01-IM6', 'P-0030205-T01-IM6', 'P-0027241-T01-IM6', 'P-0000448-T01-IM3', 'P-0026683-T01-IM6', 'P-0010671-T01-IM5', 'P-0035371-T01-IM6', 'P-0042581-T01-IM6', 'P-0045176-T01-IM6', 'P-0023857-T01-IM6', 'P-0038424-T01-IM6', 'P-0032660-T01-IM6', 'P-0025669-T01-IM6', 'P-0033260-T01-IM6', 'P-0017675-T01-IM5', 'P-0003529-T01-IM5', 'P-0035492-T01-IM6', 'P-0039578-T01-IM6', 'P-0029778-T01-IM6', 'P-0047336-T01-IM6', 'P-0033852-T01-IM6', 'P-0036831-T01-IM6', 'P-0017788-T01-IM6', 'P-0045458-T01-IM6', 'P-0023088-T01-IM6', 'P-0012331-T01-IM5', 'P-0046469-T01-IM6', 'P-0027380-T01-IM6', 'P-0017883-T01-IM6', 'P-0027751-T01-IM6', 'P-0016115-T01-IM6', 'P-0008682-T02-IM6', 'P-0020754-T01-IM6', 'P-0014023-T01-IM5', 'P-0037887-T01-IM6', 'P-0034308-T01-IM6', 'P-0016626-T01-IM6', 'P-0005021-T01-IM5', 'P-0013506-T01-IM5', 'P-0010393-T02-IM6', 'P-0021355-T01-IM6', 'P-0005080-T01-IM5', 'P-0013237-T02-IM6', 'P-0034864-T01-IM6', 'P-0042507-T01-IM6', 'P-0006201-T01-IM5', 'P-0001215-T01-IM3', 'P-0000705-T01-IM3', 'P-0009962-T01-IM5', 'P-0032289-T01-IM6', 'P-0010275-T01-IM5', 'P-0017299-T01-IM6', 'P-0044374-T01-IM6', 'P-0002280-T01-IM3', 'P-0035505-T02-IM6', 'P-0020227-T01-IM6', 'P-0015570-T01-IM6', 'P-0047668-T01-IM6', 'P-0005803-T01-IM5', 'P-0018616-T01-IM6', 'P-0020180-T01-IM6', 'P-0011357-T01-IM5', 'P-0045738-T01-IM6', 'P-0026285-T01-IM6', 'P-0041969-T01-IM6', 'P-0009735-T01-IM5', 'P-0000821-T01-IM3', 'P-0014787-T01-IM6', 'P-0008721-T01-IM5', 'P-0019244-T01-IM6', 'P-0009025-T01-IM5', 'P-0042674-T01-IM6', 'P-0011302-T01-IM5', 'P-0042702-T01-IM6', 'P-0043827-T01-IM6', 'P-0011446-T01-IM5', 'P-0048082-T01-IM6', 'P-0028069-T01-IM6', 'P-0015288-T01-IM6', 'P-0008345-T02-IM6', 'P-0011262-T01-IM5', 'P-0000237-T01-IM3', 'P-0026118-T01-IM6', 'P-0010587-T01-IM5', 'P-0012670-T01-IM5', 'P-0013580-T02-IM6', 'P-0044378-T01-IM6', 'P-0012273-T01-IM5', 'P-0002463-T02-IM5', 'P-0019426-T01-IM6', 'P-0039559-T01-IM6', 'P-0029121-T01-IM6', 'P-0031042-T01-IM6', 'P-0016188-T03-IM6', 'P-0030372-T01-IM6', 'P-0043652-T01-IM6', 'P-0044329-T01-IM6', 'P-0046035-T01-IM6', 'P-0021077-T01-IM6', 'P-0019199-T01-IM6', 'P-0031289-T02-IM6', 'P-0037758-T01-IM6', 'P-0036391-T01-IM6', 'P-0039558-T01-IM6', 'P-0021505-T01-IM6', 'P-0047155-T01-IM6', 'P-0006772-T01-IM5', 'P-0019416-T01-IM6', 'P-0024731-T01-IM6', 'P-0001878-T01-IM3', 'P-0004136-T01-IM5', 'P-0025083-T01-IM6', 'P-0038944-T01-IM6', 'P-0019807-T04-IM6', 'P-0004260-T01-IM5', 'P-0003132-T01-IM5', 'P-0017986-T01-IM6', 'P-0044406-T01-IM6', 'P-0019986-T01-IM6', 'P-0001703-T01-IM3', 'P-0031089-T01-IM6', 'P-0028571-T01-IM6', 'P-0023287-T01-IM6', 'P-0020455-T01-IM6', 'P-0009411-T01-IM5', 'P-0046366-T01-IM6', 'P-0000944-T01-IM3', 'P-0020686-T01-IM6', 'P-0029517-T01-IM6', 'P-0034845-T01-IM6', 'P-0010185-T01-IM5', 'P-0046486-T01-IM6', 'P-0036050-T01-IM6', 'P-0028495-T01-IM6', 'P-0044297-T01-IM6', 'P-0032589-T01-IM6', 'P-0013374-T01-IM5', 'P-0007997-T01-IM5', 'P-0005127-T02-IM5', 'P-0032718-T01-IM6', 'P-0029303-T01-IM6', 'P-0015293-T01-IM6', 'P-0035094-T01-IM6', 'P-0041576-T01-IM6', 'P-0006368-T01-IM5', 'P-0032698-T01-IM6', 'P-0036676-T01-IM6', 'P-0003524-T01-IM5', 'P-0021972-T01-IM6', 'P-0033583-T01-IM6', 'P-0012129-T01-IM5', 'P-0019649-T01-IM6', 'P-0018631-T01-IM6', 'P-0021090-T01-IM6', 'P-0001042-T01-IM3', 'P-0010462-T01-IM5', 'P-0033843-T01-IM6', 'P-0012979-T02-IM6', 'P-0045577-T01-IM6', 'P-0006754-T01-IM5', 'P-0029399-T01-IM6', 'P-0039477-T01-IM6', 'P-0026935-T03-IM6', 'P-0035437-T01-IM6', 'P-0006482-T02-IM6', 'P-0024184-T01-IM6', 'P-0010057-T01-IM5', 'P-0041318-T01-IM6', 'P-0039150-T01-IM6', 'P-0027740-T01-IM6', 'P-0043520-T01-IM6', 'P-0000083-T01-IM3', 'P-0020633-T01-IM6', 'P-0032288-T01-IM6', 'P-0005455-T01-IM5', 'P-0014639-T02-IM6', 'P-0021600-T01-IM6', 'P-0025245-T01-IM6', 'P-0013112-T02-IM6', 'P-0040884-T01-IM6', 'P-0018815-T01-IM6', 'P-0028924-T01-IM6', 'P-0033077-T01-IM6', 'P-0009499-T01-IM5', 'P-0040678-T01-IM6', 'P-0018932-T01-IM6', 'P-0040250-T02-IM6', 'P-0039737-T01-IM6', 'P-0008729-T01-IM5', 'P-0009057-T01-IM5', 'P-0038413-T01-IM6', 'P-0035426-T01-IM6', 'P-0046492-T01-IM6', 'P-0032347-T01-IM6', 'P-0006265-T01-IM5', 'P-0033016-T01-IM6', 'P-0013991-T01-IM5', 'P-0048110-T01-IM6', 'P-0035916-T01-IM6', 'P-0031173-T01-IM6', 'P-0013452-T01-IM5', 'P-0046839-T01-IM6', 'P-0041144-T01-IM6', 'P-0004362-T01-IM5', 'P-0039884-T01-IM6', 'P-0007831-T01-IM5', 'P-0021641-T01-IM6', 'P-0044544-T01-IM6', 'P-0029683-T01-IM6', 'P-0000500-T01-IM3', 'P-0020180-T02-IM6', 'P-0040701-T01-IM6', 'P-0042615-T01-IM6', 'P-0042763-T01-IM6', 'P-0002421-T01-IM3', 'P-0028774-T01-IM6', 'P-0023879-T01-IM6', 'P-0007688-T01-IM5', 'P-0008180-T01-IM5', 'P-0002455-T01-IM3', 'P-0044790-T01-IM6', 'P-0009157-T01-IM5', 'P-0046448-T01-IM6', 'P-0018224-T01-IM6', 'P-0015785-T01-IM6', 'P-0020639-T01-IM6', 'P-0035281-T01-IM6', 'P-0041636-T01-IM6', 'P-0023713-T01-IM6', 'P-0030295-T01-IM6', 'P-0008746-T01-IM5', 'P-0021099-T01-IM6', 'P-0046915-T01-IM6', 'P-0000582-T01-IM3', 'P-0000157-T01-IM3', 'P-0041382-T01-IM6', 'P-0020920-T01-IM6', 'P-0023555-T01-IM6', 'P-0008646-T01-IM5', 'P-0023551-T01-IM6', 'P-0006269-T01-IM5', 'P-0019807-T03-IM6', 'P-0031146-T01-IM6', 'P-0046432-T01-IM6', 'P-0011432-T01-IM5', 'P-0005151-T01-IM5', 'P-0003555-T01-IM5', 'P-0019598-T01-IM6', 'P-0025735-T01-IM6', 'P-0016616-T01-IM6', 'P-0002633-T01-IM3', 'P-0012188-T01-IM5', 'P-0016314-T01-IM6', 'P-0015237-T01-IM6', 'P-0009226-T02-IM5', 'P-0028701-T01-IM6', 'P-0017385-T01-IM6', 'P-0036638-T01-IM6', 'P-0031436-T01-IM6', 'P-0039294-T01-IM6', 'P-0004073-T02-IM6', 'P-0014818-T01-IM6', 'P-0022520-T01-IM6', 'P-0038042-T01-IM6', 'P-0013010-T01-IM5', 'P-0010765-T01-IM5', 'P-0017086-T02-IM6', 'P-0044484-T01-IM6', 'P-0030383-T01-IM6', 'P-0028638-T01-IM6', 'P-0005703-T01-IM5', 'P-0014148-T01-IM5', 'P-0007995-T02-IM5', 'P-0012047-T01-IM5', 'P-0045125-T01-IM6', 'P-0036868-T01-IM6', 'P-0029429-T01-IM6', 'P-0033606-T01-IM6', 'P-0048084-T01-IM6', 'P-0001791-T01-IM3', 'P-0041146-T01-IM6', 'P-0025532-T01-IM6', 'P-0009918-T01-IM5', 'P-0043336-T01-IM6', 'P-0015869-T01-IM6', 'P-0019386-T01-IM6', 'P-0012979-T01-IM5', 'P-0020330-T01-IM6', 'P-0004831-T01-IM5', 'P-0040023-T01-IM6', 'P-0010241-T01-IM5', 'P-0029972-T01-IM6', 'P-0032548-T01-IM6', 'P-0037531-T01-IM6', 'P-0047974-T01-IM6', 'P-0026484-T01-IM6', 'P-0011570-T01-IM5', 'P-0046311-T01-IM6', 'P-0020136-T01-IM6', 'P-0011226-T01-IM5', 'P-0010034-T01-IM5', 'P-0010116-T01-IM5', 'P-0006695-T01-IM5', 'P-0018350-T01-IM6', 'P-0002859-T01-IM3', 'P-0010967-T01-IM5', 'P-0016423-T03-IM6', 'P-0044987-T01-IM6', 'P-0018346-T01-IM6', 'P-0039773-T01-IM6', 'P-0041597-T01-IM6', 'P-0005548-T01-IM5', 'P-0020312-T01-IM6', 'P-0036568-T01-IM6', 'P-0038015-T01-IM6', 'P-0026386-T02-IM6', 'P-0016019-T01-IM6', 'P-0028472-T01-IM6', 'P-0003175-T01-IM5', 'P-0012819-T01-IM5', 'P-0036928-T01-IM6', 'P-0041660-T01-IM6', 'P-0002113-T02-IM6', 'P-0022803-T01-IM6', 'P-0017532-T01-IM5', 'P-0041347-T01-IM6', 'P-0048063-T02-IM6', 'P-0030636-T01-IM6', 'P-0016341-T01-IM6', 'P-0008358-T01-IM5', 'P-0013492-T01-IM5', 'P-0041986-T01-IM6', 'P-0012249-T01-IM5', 'P-0026875-T01-IM6', 'P-0024582-T01-IM6', 'P-0028891-T01-IM6', 'P-0044669-T02-IM6', 'P-0005230-T01-IM5', 'P-0029164-T01-IM6', 'P-0021851-T01-IM6', 'P-0043177-T01-IM6', 'P-0025883-T01-IM6', 'P-0046593-T01-IM6', 'P-0040228-T01-IM6', 'P-0023067-T01-IM6', 'P-0046202-T01-IM6', 'P-0033605-T01-IM6', 'P-0026512-T01-IM6', 'P-0040107-T01-IM6', 'P-0029087-T02-IM6', 'P-0029398-T01-IM6', 'P-0007675-T01-IM5', 'P-0042390-T01-IM6', 'P-0044506-T01-IM6', 'P-0038016-T01-IM6', 'P-0026221-T01-IM6', 'P-0008480-T01-IM5', 'P-0003767-T01-IM5', 'P-0021933-T01-IM6', 'P-0019076-T01-IM6', 'P-0005824-T01-IM5', 'P-0040250-T01-IM6', 'P-0013537-T01-IM5', 'P-0025695-T01-IM6', 'P-0046893-T01-IM6', 'P-0018005-T01-IM6', 'P-0027929-T01-IM6', 'P-0041294-T01-IM6', 'P-0032761-T01-IM6', 'P-0036334-T01-IM6', 'P-0024185-T01-IM6', 'P-0031097-T01-IM6', 'P-0000043-T02-IM3', 'P-0021714-T01-IM6', 'P-0025885-T01-IM6', 'P-0005560-T01-IM5', 'P-0012977-T03-IM6', 'P-0034559-T03-IM6', 'P-0036503-T01-IM6', 'P-0007596-T01-IM5', 'P-0013349-T01-IM5', 'P-0036435-T01-IM6', 'P-0036664-T01-IM6', 'P-0013357-T01-IM5', 'P-0012397-T01-IM5', 'P-0030195-T01-IM6', 'P-0043071-T01-IM6', 'P-0018106-T01-IM6', 'P-0017986-T02-IM6', 'P-0026297-T02-IM6', 'P-0004954-T02-IM5', 'P-0004865-T01-IM5', 'P-0023923-T01-IM6', 'P-0026197-T01-IM6', 'P-0043045-T01-IM6', 'P-0003822-T03-IM6', 'P-0009875-T01-IM5', 'P-0000862-T01-IM3', 'P-0005987-T01-IM5', 'P-0033976-T01-IM6', 'P-0027698-T01-IM6', 'P-0037582-T01-IM6', 'P-0021039-T02-IM6', 'P-0030391-T01-IM6', 'P-0030197-T01-IM6', 'P-0039999-T01-IM6', 'P-0002181-T02-IM5', 'P-0021519-T02-IM6', 'P-0001325-T01-IM3', 'P-0001744-T01-IM3', 'P-0029645-T01-IM6', 'P-0035621-T01-IM6', 'P-0035777-T01-IM6', 'P-0025368-T01-IM6', 'P-0043230-T01-IM6', 'P-0015344-T01-IM6', 'P-0021796-T01-IM6', 'P-0024488-T01-IM6', 'P-0028200-T01-IM6', 'P-0005823-T01-IM5', 'P-0046844-T01-IM6', 'P-0002265-T04-IM5', 'P-0021283-T01-IM6', 'P-0008817-T01-IM5', 'P-0044389-T01-IM6', 'P-0026480-T01-IM6', 'P-0014145-T01-IM5', 'P-0039184-T01-IM6', 'P-0017681-T01-IM6', 'P-0035133-T01-IM6', 'P-0036852-T01-IM6', 'P-0038651-T01-IM6', 'P-0004423-T01-IM5', 'P-0024756-T01-IM6', 'P-0028274-T01-IM6', 'P-0018382-T01-IM6', 'P-0033773-T01-IM6', 'P-0016247-T01-IM6', 'P-0016099-T01-IM6', 'P-0030615-T01-IM6', 'P-0024452-T01-IM6', 'P-0046562-T01-IM6', 'P-0033435-T01-IM6', 'P-0015894-T01-IM6', 'P-0040867-T01-IM6', 'P-0028034-T01-IM6', 'P-0019231-T02-IM6', 'P-0032456-T01-IM6', 'P-0010145-T01-IM5', 'P-0007055-T01-IM5', 'P-0024633-T01-IM6', 'P-0031069-T02-IM6', 'P-0045298-T01-IM6', 'P-0013409-T01-IM5', 'P-0000764-T01-IM3', 'P-0009484-T01-IM5', 'P-0041619-T01-IM6', 'P-0008444-T01-IM5', 'P-0002964-T02-IM3', 'P-0035580-T01-IM6', 'P-0027209-T01-IM6', 'P-0008401-T01-IM5', 'P-0023537-T01-IM6', 'P-0006462-T01-IM5', 'P-0034967-T01-IM6', 'P-0045009-T01-IM6', 'P-0002049-T02-IM6', 'P-0003900-T01-IM5', 'P-0045415-T01-IM6', 'P-0003104-T01-IM5', 'P-0011071-T01-IM5', 'P-0027238-T01-IM6', 'P-0015699-T01-IM6', 'P-0036369-T01-IM6', 'P-0021304-T01-IM6', 'P-0008417-T02-IM6', 'P-0020689-T01-IM6', 'P-0004387-T02-IM5', 'P-0034448-T01-IM6', 'P-0002186-T01-IM3', 'P-0041884-T01-IM6', 'P-0001628-T01-IM3', 'P-0030930-T01-IM6', 'P-0035180-T01-IM6', 'P-0031195-T01-IM6', 'P-0037410-T01-IM6', 'P-0026784-T01-IM6', 'P-0031207-T01-IM6', 'P-0020143-T01-IM6', 'P-0033260-T02-IM6', 'P-0021154-T01-IM6', 'P-0006365-T01-IM5', 'P-0016972-T01-IM6', 'P-0042644-T01-IM6', 'P-0015536-T01-IM6', 'P-0016938-T01-IM6', 'P-0004092-T01-IM5', 'P-0013082-T01-IM5', 'P-0024130-T01-IM6', 'P-0044415-T02-IM6', 'P-0020422-T01-IM6', 'P-0040086-T01-IM6', 'P-0020850-T01-IM6', 'P-0043106-T01-IM6', 'P-0044805-T01-IM6', 'P-0025665-T01-IM6', 'P-0034862-T01-IM6', 'P-0000800-T01-IM3', 'P-0019687-T02-IM6', 'P-0040823-T01-IM6', 'P-0047670-T01-IM6', 'P-0032723-T01-IM6', 'P-0007836-T01-IM5', 'P-0047653-T01-IM6', 'P-0030244-T01-IM6', 'P-0038304-T01-IM6', 'P-0016023-T01-IM6', 'P-0040355-T01-IM6', 'P-0032994-T01-IM6', 'P-0035100-T01-IM6', 'P-0032181-T01-IM6', 'P-0015626-T01-IM6', 'P-0035005-T01-IM6', 'P-0018147-T01-IM6', 'P-0000399-T01-IM3', 'P-0013749-T02-IM6', 'P-0037166-T01-IM6', 'P-0004641-T01-IM5', 'P-0037690-T01-IM6', 'P-0001237-T01-IM3', 'P-0030383-T02-IM6', 'P-0005285-T01-IM5', 'P-0019658-T01-IM6', 'P-0019556-T01-IM6', 'P-0020356-T01-IM6', 'P-0017300-T01-IM6', 'P-0043035-T01-IM6', 'P-0003014-T01-IM3', 'P-0028266-T01-IM6', 'P-0026536-T01-IM6', 'P-0022966-T01-IM6', 'P-0042089-T01-IM6', 'P-0032818-T01-IM6', 'P-0033503-T01-IM6', 'P-0019545-T01-IM6', 'P-0035747-T01-IM6', 'P-0037515-T01-IM6', 'P-0019464-T01-IM6', 'P-0001649-T01-IM3', 'P-0013169-T01-IM5', 'P-0019071-T01-IM6', 'P-0006612-T01-IM5', 'P-0012988-T01-IM5', 'P-0013237-T01-IM5', 'P-0034950-T01-IM6', 'P-0010499-T01-IM5', 'P-0016801-T01-IM6', 'P-0026221-T02-IM6', 'P-0033410-T01-IM6', 'P-0023966-T01-IM6', 'P-0015322-T01-IM6', 'P-0047435-T01-IM6', 'P-0029248-T01-IM6', 'P-0010783-T01-IM5', 'P-0026962-T01-IM6', 'P-0042357-T01-IM6', 'P-0005312-T01-IM5', 'P-0001237-T03-IM6', 'P-0001685-T02-IM3', 'P-0011013-T01-IM5', 'P-0017066-T01-IM6', 'P-0037117-T01-IM6', 'P-0031501-T01-IM6', 'P-0009087-T01-IM5', 'P-0006811-T01-IM5', 'P-0007843-T01-IM5', 'P-0030988-T01-IM6', 'P-0039596-T01-IM6', 'P-0012804-T01-IM5', 'P-0028474-T01-IM6', 'P-0037867-T01-IM6', 'P-0039902-T01-IM6', 'P-0039779-T02-IM6', 'P-0024694-T02-IM6', 'P-0011068-T01-IM5', 'P-0037127-T01-IM6', 'P-0018106-T02-IM6', 'P-0044550-T01-IM6', 'P-0039466-T01-IM6', 'P-0031496-T01-IM6', 'P-0040549-T01-IM6', 'P-0047886-T01-IM6', 'P-0010196-T01-IM5', 'P-0029228-T01-IM6', 'P-0008665-T02-IM6', 'P-0041244-T01-IM6', 'P-0013876-T01-IM5', 'P-0044858-T01-IM6', 'P-0012179-T01-IM5', 'P-0031750-T01-IM6', 'P-0040147-T01-IM6', 'P-0018599-T01-IM6', 'P-0008504-T03-IM6', 'P-0000789-T01-IM3', 'P-0029337-T01-IM6', 'P-0046754-T01-IM6', 'P-0020757-T01-IM6', 'P-0010828-T01-IM5', 'P-0042762-T01-IM6', 'P-0017841-T01-IM6', 'P-0001821-T01-IM3', 'P-0031050-T01-IM6', 'P-0025245-T02-IM6', 'P-0006777-T01-IM5', 'P-0039113-T02-IM6', 'P-0039854-T01-IM6', 'P-0047156-T01-IM6', 'P-0006207-T01-IM5', 'P-0000919-T01-IM3', 'P-0016892-T01-IM6', 'P-0046965-T01-IM6', 'P-0042737-T01-IM6', 'P-0005400-T01-IM5', 'P-0031479-T01-IM6', 'P-0032496-T01-IM6', 'P-0035146-T01-IM6', 'P-0013293-T02-IM6', 'P-0029114-T01-IM6', 'P-0013954-T01-IM5', 'P-0024668-T01-IM6', 'P-0030205-T03-IM6', 'P-0042880-T01-IM6', 'P-0044645-T01-IM6', 'P-0031091-T01-IM6', 'P-0023286-T01-IM6', 'P-0004688-T01-IM5', 'P-0004255-T01-IM5', 'P-0010504-T01-IM5', 'P-0033133-T01-IM6', 'P-0006441-T02-IM5', 'P-0032827-T03-IM6', 'P-0030368-T01-IM6', 'P-0022111-T01-IM6', 'P-0028014-T01-IM6', 'P-0044371-T01-IM6', 'P-0009964-T02-IM5', 'P-0030708-T01-IM6', 'P-0019846-T01-IM6', 'P-0036123-T01-IM6', 'P-0034775-T01-IM6', 'P-0018374-T01-IM6', 'P-0021769-T01-IM6', 'P-0001882-T03-IM6', 'P-0024232-T01-IM6', 'P-0011440-T02-IM6', 'P-0030862-T02-IM6', 'P-0011569-T01-IM5', 'P-0029495-T03-IM6', 'P-0028580-T01-IM6', 'P-0021965-T02-IM6', 'P-0046229-T01-IM6', 'P-0045357-T01-IM6', 'P-0009892-T01-IM5', 'P-0036805-T01-IM6', 'P-0035452-T01-IM6', 'P-0038102-T01-IM6', 'P-0025312-T01-IM6', 'P-0002463-T01-IM3', 'P-0015420-T01-IM6', 'P-0001216-T03-IM6', 'P-0026440-T01-IM6', 'P-0040828-T01-IM6', 'P-0012977-T01-IM5', 'P-0038994-T01-IM6', 'P-0011540-T01-IM5', 'P-0047602-T01-IM6', 'P-0025557-T01-IM6', 'P-0033067-T01-IM6', 'P-0009625-T01-IM5', 'P-0040787-T01-IM6', 'P-0036297-T01-IM6', 'P-0045569-T01-IM6', 'P-0043156-T01-IM6', 'P-0042642-T01-IM6', 'P-0012313-T01-IM5', 'P-0023271-T01-IM6', 'P-0002105-T01-IM3', 'P-0025648-T01-IM6', 'P-0036924-T01-IM6', 'P-0047708-T01-IM6', 'P-0043518-T02-IM6', 'P-0013923-T02-IM6', 'P-0035103-T01-IM6', 'P-0012942-T01-IM5', 'P-0033748-T01-IM6', 'P-0030322-T01-IM6', 'P-0041983-T01-IM6', 'P-0045533-T01-IM6', 'P-0014169-T01-IM5', 'P-0019650-T01-IM6', 'P-0033327-T01-IM6', 'P-0031332-T02-IM6', 'P-0039800-T01-IM6'])\n"
     ]
    }
   ],
   "source": [
    "hypermutantIdDir=pathPrefix + '/juno/work/taylorlab/friedman/hypermutationAnalysisProj/projectDataAndConfigFiles/hypermutationStatusIds'\n",
    "allHypermutatedCases = get_gene_and_cohort_list_utils.get_all_hypermutant_ids(hypermutantIdDir=hypermutatantIdDir)\n"
   ]
  },
  {
   "cell_type": "code",
   "execution_count": 17,
   "metadata": {},
   "outputs": [],
   "source": [
    "hypermutantsOnlyMaf = allImpactMuts[allImpactMuts['Tumor_Sample_Barcode'].isin(allHypermutatedCases)]"
   ]
  },
  {
   "cell_type": "code",
   "execution_count": 20,
   "metadata": {},
   "outputs": [],
   "source": [
    "hypermutantsOnlyMaf.to_csv(pathPrefix + '/juno/work/taylorlab/friedman/myAdjustedDataFiles/data_mutations_extended_annotated_nov19_hypermutantOnly_2019.maf', index=False, sep='\\t')\n"
   ]
  }
 ],
 "metadata": {
  "kernelspec": {
   "display_name": "Python 2",
   "language": "python",
   "name": "python2"
  },
  "language_info": {
   "codemirror_mode": {
    "name": "ipython",
    "version": 2
   },
   "file_extension": ".py",
   "mimetype": "text/x-python",
   "name": "python",
   "nbconvert_exporter": "python",
   "pygments_lexer": "ipython2",
   "version": "2.7.15"
  }
 },
 "nbformat": 4,
 "nbformat_minor": 2
}
