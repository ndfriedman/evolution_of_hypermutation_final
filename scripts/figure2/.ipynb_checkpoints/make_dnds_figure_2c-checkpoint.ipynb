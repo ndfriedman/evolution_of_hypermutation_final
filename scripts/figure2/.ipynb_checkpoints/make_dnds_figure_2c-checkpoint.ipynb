{
 "cells": [
  {
   "cell_type": "code",
   "execution_count": 10,
   "metadata": {},
   "outputs": [],
   "source": [
    "import sys\n",
    "import argparse\n",
    "import os\n",
    "import pandas as pd\n",
    "import numpy as np\n",
    "import re\n",
    "import math\n",
    "\n",
    "from collections import Counter\n",
    "\n",
    "pathPrefix = '/Users/friedman/Desktop/mnt'\n",
    "sys.path.append(pathPrefix + '/juno/work/taylorlab/friedman/myUtils')\n",
    "import analysis_utils\n",
    "import get_gene_and_cohort_list_utils"
   ]
  },
  {
   "cell_type": "code",
   "execution_count": 6,
   "metadata": {},
   "outputs": [
    {
     "name": "stderr",
     "output_type": "stream",
     "text": [
      "/anaconda2/lib/python2.7/site-packages/IPython/core/interactiveshell.py:2714: DtypeWarning: Columns (17,18,19,45,46,48,50,51,52,53,54,55,56,57,60,61,62,63,64,65,74,75,76,77,78,80,81,85,86,87,89,90,91,92,93,98,100,101,102,103,104,105,106,107,108,110,111,112,113,114,115,116,117,121) have mixed types. Specify dtype option on import or set low_memory=False.\n",
      "  interactivity=interactivity, compiler=compiler, result=result)\n"
     ]
    }
   ],
   "source": [
    "allImpactMutsUnfiltered = pd.read_table(pathPrefix + '/juno/work/taylorlab/friedman/myAdjustedDataFiles/dataMutationsUnfilteredNov19.txt', skiprows=1)\n"
   ]
  },
  {
   "cell_type": "code",
   "execution_count": 19,
   "metadata": {},
   "outputs": [],
   "source": [
    "cancerTypesToRunDNDSOn = set(['Colorectal Cancer', 'Endometrial Cancer', 'Glioma',\n",
    "                              'Prostate Cancer', 'Esophagogastric Cancer', 'Bladder Cancer'])\n",
    "\n",
    "hypermutantIdDir= pathPrefix +'/juno/work/taylorlab/friedman/hypermutationAnalysisProj/projectDataAndConfigFiles/hypermutationStatusIds'\n",
    "idsDict = {}\n",
    "for cancerType in cancerTypesToRunDNDSOn:\n",
    "    fileName = re.sub(' ', '_', cancerType)\n",
    "    for status in ['Normal', 'Hypermutated']:\n",
    "        fileNameAdj = fileName + '_' + status\n",
    "        ids = get_gene_and_cohort_list_utils.get_ids_by_hypermutant_status(hypermutantIdDir=hypermutantIdDir, cancerType=cancerType, hypermutantStatus = status)\n",
    "        idsDict[fileNameAdj] = ids\n",
    "        "
   ]
  },
  {
   "cell_type": "code",
   "execution_count": 27,
   "metadata": {},
   "outputs": [
    {
     "name": "stdout",
     "output_type": "stream",
     "text": [
      "writing /Users/friedman/Desktop/mnt/juno/work/taylorlab/friedman/myAdjustedDataFiles/mafsForDndsCV/Glioma_Normal_DNDS_maf.tsv\n",
      "writing /Users/friedman/Desktop/mnt/juno/work/taylorlab/friedman/myAdjustedDataFiles/mafsForDndsCV/Glioma_Hypermutated_DNDS_maf.tsv\n",
      "writing /Users/friedman/Desktop/mnt/juno/work/taylorlab/friedman/myAdjustedDataFiles/mafsForDndsCV/Esophagogastric_Cancer_Hypermutated_DNDS_maf.tsv\n",
      "writing /Users/friedman/Desktop/mnt/juno/work/taylorlab/friedman/myAdjustedDataFiles/mafsForDndsCV/Colorectal_Cancer_Hypermutated_DNDS_maf.tsv\n",
      "writing /Users/friedman/Desktop/mnt/juno/work/taylorlab/friedman/myAdjustedDataFiles/mafsForDndsCV/Esophagogastric_Cancer_Normal_DNDS_maf.tsv\n",
      "writing /Users/friedman/Desktop/mnt/juno/work/taylorlab/friedman/myAdjustedDataFiles/mafsForDndsCV/Bladder_Cancer_Hypermutated_DNDS_maf.tsv\n",
      "writing /Users/friedman/Desktop/mnt/juno/work/taylorlab/friedman/myAdjustedDataFiles/mafsForDndsCV/Bladder_Cancer_Normal_DNDS_maf.tsv\n",
      "writing /Users/friedman/Desktop/mnt/juno/work/taylorlab/friedman/myAdjustedDataFiles/mafsForDndsCV/Prostate_Cancer_Hypermutated_DNDS_maf.tsv\n",
      "writing /Users/friedman/Desktop/mnt/juno/work/taylorlab/friedman/myAdjustedDataFiles/mafsForDndsCV/Endometrial_Cancer_Hypermutated_DNDS_maf.tsv\n",
      "writing /Users/friedman/Desktop/mnt/juno/work/taylorlab/friedman/myAdjustedDataFiles/mafsForDndsCV/Colorectal_Cancer_Normal_DNDS_maf.tsv\n",
      "writing /Users/friedman/Desktop/mnt/juno/work/taylorlab/friedman/myAdjustedDataFiles/mafsForDndsCV/Endometrial_Cancer_Normal_DNDS_maf.tsv\n",
      "writing /Users/friedman/Desktop/mnt/juno/work/taylorlab/friedman/myAdjustedDataFiles/mafsForDndsCV/Prostate_Cancer_Normal_DNDS_maf.tsv\n"
     ]
    }
   ],
   "source": [
    "writeDir = pathPrefix + '/juno/work/taylorlab/friedman/myAdjustedDataFiles/mafsForDndsCV/'\n",
    "for cohort, ids in idsDict.items():\n",
    "    mutations = allImpactMutsUnfiltered[allImpactMutsUnfiltered['Tumor_Sample_Barcode'].isin(ids)]\n",
    "    #FIX THE COLUMN NAMES\n",
    "    renameDict = {'Tumor_Sample_Barcode': 'sampleID', 'Chromosome': 'chr', 'Start_Position': 'pos',\n",
    "                'Reference_Allele': 'ref', 'Tumor_Seq_Allele2': 'alt', 'Hugo_Symbol': 'gene', 'hgvs': 'HGVSp_Short' \n",
    "                }\n",
    "    mutations = mutations.rename(columns=renameDict)\n",
    "    mutations = mutations[renameDict.values()]\n",
    "    filename = writeDir + cohort + '_DNDS_maf.tsv'\n",
    "    print 'writing', filename\n",
    "    mutations.to_csv(filename, index=False, sep='\\t')\n",
    "    "
   ]
  },
  {
   "cell_type": "code",
   "execution_count": 28,
   "metadata": {},
   "outputs": [],
   "source": [
    "nucleosomeInfo = pd.read_table(pathPrefix + '/ifs/res/taylorlab/ang46/ext/resources/nucleosome_dyads_genic_hg19.bed')"
   ]
  },
  {
   "cell_type": "code",
   "execution_count": 42,
   "metadata": {},
   "outputs": [],
   "source": [
    "impact468genes = set(['ABL1', 'ACVR1', 'AGO2', 'AKT1', 'AKT2', 'AKT3', 'ALK', 'ALOX12B', 'AMER1', 'ANKRD11', 'APC', 'AR', 'ARAF', 'ARID1A', 'ARID1B', 'ARID2', 'ARID5B', 'ASXL1', 'ASXL2', 'ATM', 'ATR', 'ATRX', 'AURKA', 'AURKB', 'AXIN1', 'AXIN2', 'AXL', 'B2M', 'BABAM1', 'BAP1', 'BARD1', 'BBC3', 'BCL10', 'BCL2', 'BCL2L1', 'BCL2L11', 'BCL6', 'BCOR', 'BIRC3', 'BLM', 'BMPR1A', 'BRAF', 'BRCA1', 'BRCA2', 'BRD4', 'BRIP1', 'BTK', 'CALR', 'CARD11', 'CARM1', 'CASP8', 'CBFB', 'CBL', 'CCND1', 'CCND2', 'CCND3', 'CCNE1', 'CD274', 'CD276', 'CD79A', 'CD79B', 'CDC42', 'CDC73', 'CDH1', 'CDK12', 'CDK4', 'CDK6', 'CDK8', 'CDKN1A', 'CDKN1B', 'CDKN2A', 'CDKN2B', 'CDKN2C', 'CEBPA', 'CENPA', 'CHEK1', 'CHEK2', 'CIC', 'CREBBP', 'CRKL', 'CRLF2', 'CSDE1', 'CSF1R', 'CSF3R', 'CTCF', 'CTLA4', 'CTNNB1', 'CUL3', 'CXCR4', 'CYLD', 'CYSLTR2', 'DAXX', 'DCUN1D1', 'DDR2', 'DICER1', 'DIS3', 'DNAJB1', 'DNMT1', 'DNMT3A', 'DNMT3B', 'DOT1L', 'DROSHA', 'DUSP4', 'E2F3', 'EED', 'EGFL7', 'EGFR', 'EIF1AX', 'EIF4A2', 'EIF4E', 'ELF3', 'EP300', 'EPAS1', 'EPCAM', 'EPHA3', 'EPHA5', 'EPHA7', 'EPHB1', 'ERBB2', 'ERBB3', 'ERBB4', 'ERCC2', 'ERCC3', 'ERCC4', 'ERCC5', 'ERF', 'ERG', 'ERRFI1', 'ESR1', 'ETV1', 'ETV6', 'EZH1', 'EZH2', 'FAM175A', 'FAM46C', 'FAM58A', 'FANCA', 'FANCC', 'FAT1', 'FBXW7', 'FGF19', 'FGF3', 'FGF4', 'FGFR1', 'FGFR2', 'FGFR3', 'FGFR4', 'FH', 'FLCN', 'FLT1', 'FLT3', 'FLT4', 'FOXA1', 'FOXL2', 'FOXO1', 'FOXP1', 'FUBP1', 'FYN', 'GATA1', 'GATA2', 'GATA3', 'GLI1', 'GNA11', 'GNAQ', 'GNAS', 'GPS2', 'GREM1', 'GRIN2A', 'GSK3B', 'GTF2I', 'H3F3A', 'H3F3B', 'H3F3C', 'HGF', 'HIST1H1C', 'HIST1H2BD', 'HIST1H3A', 'HIST1H3B', 'HIST1H3C', 'HIST1H3D', 'HIST1H3E', 'HIST1H3F', 'HIST1H3G', 'HIST1H3H', 'HIST1H3I', 'HIST1H3J', 'HIST2H3C', 'HIST2H3D', 'HIST3H3', 'HLA-A', 'HLA-B', 'HNF1A', 'HOXB13', 'HRAS', 'ICOSLG', 'ID3', 'IDH1', 'IDH2', 'IFNGR1', 'IGF1', 'IGF1R', 'IGF2', 'IKBKE', 'IKZF1', 'IL10', 'IL7R', 'INHA', 'INHBA', 'INPP4A', 'INPP4B', 'INPPL1', 'INSR', 'IRF4', 'IRS1', 'IRS2', 'JAK1', 'JAK2', 'JAK3', 'JUN', 'KDM5A', 'KDM5C', 'KDM6A', 'KDR', 'KEAP1', 'KIT', 'KLF4', 'KNSTRN', 'KRAS', 'LATS1', 'LATS2', 'LMO1', 'LYN', 'MALT1', 'MAP2K1', 'MAP2K2', 'MAP2K4', 'MAP3K1', 'MAP3K13', 'MAP3K14', 'MAPK1', 'MAPK3', 'MAPKAP1', 'MAX', 'MCL1', 'MDC1', 'MDM2', 'MDM4', 'MED12', 'MEF2B', 'MEN1', 'MET', 'MGA', 'MITF', 'MLH1', 'MLL', 'MLL2', 'MLL3', 'MLL4', 'MPL', 'MRE11A', 'MSH2', 'MSH3', 'MSH6', 'MSI1', 'MSI2', 'MST1', 'MST1R', 'MTOR', 'MUTYH', 'MYC', 'MYCL1', 'MYCN', 'MYD88', 'MYOD1', 'NBN', 'NCOA3', 'NCOR1', 'NEGR1', 'NF1', 'NF2', 'NFE2L2', 'NFKBIA', 'NKX2-1', 'NKX3-1', 'NOTCH1', 'NOTCH2', 'NOTCH3', 'NOTCH4', 'NPM1', 'NRAS', 'NSD1', 'NTHL1', 'NTRK1', 'NTRK2', 'NTRK3', 'NUF2', 'NUP93', 'PAK1', 'PAK7', 'PALB2', 'PARK2', 'PARP1', 'PAX5', 'PBRM1', 'PDCD1', 'PDCD1LG2', 'PDGFRA', 'PDGFRB', 'PDPK1', 'PGR', 'PHOX2B', 'PIK3C2G', 'PIK3C3', 'PIK3CA', 'PIK3CB', 'PIK3CD', 'PIK3CG', 'PIK3R1', 'PIK3R2', 'PIK3R3', 'PIM1', 'PLCG2', 'PLK2', 'PMAIP1', 'PMS1', 'PMS2', 'PNRC1', 'POLD1', 'POLE', 'PPARG', 'PPM1D', 'PPP2R1A', 'PPP4R2', 'PPP6C', 'PRDM1', 'PRDM14', 'PREX2', 'PRKAR1A', 'PRKCI', 'PRKD1', 'PTCH1', 'PTEN', 'PTP4A1', 'PTPN11', 'PTPRD', 'PTPRS', 'PTPRT', 'RAB35', 'RAC1', 'RAC2', 'RAD21', 'RAD50', 'RAD51', 'RAD51B', 'RAD51C', 'RAD51D', 'RAD52', 'RAD54L', 'RAF1', 'RARA', 'RASA1', 'RB1', 'RBM10', 'RECQL', 'RECQL4', 'REL', 'RET', 'RFWD2', 'RHEB', 'RHOA', 'RICTOR', 'RIT1', 'RNF43', 'ROS1', 'RPS6KA4', 'RPS6KB2', 'RPTOR', 'RRAGC', 'RRAS', 'RRAS2', 'RTEL1', 'RUNX1', 'RXRA', 'RYBP', 'SDHA', 'SDHAF2', 'SDHB', 'SDHC', 'SDHD', 'SESN1', 'SESN2', 'SESN3', 'SETD2', 'SETD8', 'SF3B1', 'SH2B3', 'SH2D1A', 'SHOC2', 'SHQ1', 'SLX4', 'SMAD2', 'SMAD3', 'SMAD4', 'SMARCA4', 'SMARCB1', 'SMARCD1', 'SMO', 'SMYD3', 'SOCS1', 'SOS1', 'SOX17', 'SOX2', 'SOX9', 'SPEN', 'SPOP', 'SPRED1', 'SRC', 'SRSF2', 'STAG2', 'STAT3', 'STAT5A', 'STAT5B', 'STK11', 'STK19', 'STK40', 'SUFU', 'SUZ12', 'SYK', 'TAP1', 'TAP2', 'TBX3', 'TCEB1', 'TCF3', 'TCF7L2', 'TEK', 'TERT', 'TET1', 'TET2', 'TGFBR1', 'TGFBR2', 'TMEM127', 'TMPRSS2', 'TNFAIP3', 'TNFRSF14', 'TOP1', 'TP53', 'TP53BP1', 'TP63', 'TRAF2', 'TRAF7', 'TSC1', 'TSC2', 'TSHR', 'U2AF1', 'UPF1', 'VEGFA', 'VHL', 'VTCN1', 'WHSC1', 'WHSC1L1', 'WT1', 'WWTR1', 'XIAP', 'XPO1', 'XRCC2', 'YAP1', 'YES1', 'ZFHX3', 'ZRSR2'])\n",
    "genesWithNucleosomes = []\n",
    "for gene in impact468genes:\n",
    "    info = nucleosomeInfo[nucleosomeInfo['Hugo_Symbol'] == gene]\n",
    "    if info.shape[0] > 0:\n",
    "        genesWithNucleosomes.append(gene)"
   ]
  },
  {
   "cell_type": "code",
   "execution_count": 45,
   "metadata": {},
   "outputs": [
    {
     "data": {
      "text/plain": [
       "276540"
      ]
     },
     "execution_count": 45,
     "metadata": {},
     "output_type": "execute_result"
    }
   ],
   "source": [
    "print allImpactMutsUnfiltered[~allImpactMutsUnfiltered['Hugo_Symbol'].isin(genesWithNucleosomes)].shape[0]\n",
    "print allImpactMutsUnfiltered[allImpactMutsUnfiltered['Hugo_Symbol'].isin(genesWithNucleosomes)].shape[0]\n",
    "#len(genesWithNucleosomes)"
   ]
  }
 ],
 "metadata": {
  "kernelspec": {
   "display_name": "Python 2",
   "language": "python",
   "name": "python2"
  },
  "language_info": {
   "codemirror_mode": {
    "name": "ipython",
    "version": 2
   },
   "file_extension": ".py",
   "mimetype": "text/x-python",
   "name": "python",
   "nbconvert_exporter": "python",
   "pygments_lexer": "ipython2",
   "version": "2.7.15"
  }
 },
 "nbformat": 4,
 "nbformat_minor": 2
}
