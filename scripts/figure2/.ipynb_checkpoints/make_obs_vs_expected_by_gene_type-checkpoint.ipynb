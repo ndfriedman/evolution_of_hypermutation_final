{
 "cells": [
  {
   "cell_type": "code",
   "execution_count": 2,
   "metadata": {},
   "outputs": [],
   "source": [
    "import sys\n",
    "import argparse\n",
    "import os\n",
    "import pandas as pd\n",
    "import numpy as np\n",
    "import re\n",
    "import math\n",
    "\n",
    "from collections import Counter\n",
    "\n",
    "pathPrefix = '/Users/friedman/Desktop/mnt'\n",
    "sys.path.append(pathPrefix + '/juno/work/taylorlab/friedman/myUtils')\n",
    "import analysis_utils\n",
    "import get_gene_and_cohort_list_utils"
   ]
  },
  {
   "cell_type": "code",
   "execution_count": 3,
   "metadata": {},
   "outputs": [],
   "source": [
    "def get_n_consequential_mut_count():\n",
    "    \n",
    "    allImpactMuts = pd.read_table(pathPrefix + '/juno/work/taylorlab/friedman/myAdjustedDataFiles/data_mutations_extended_annotated_sigContext_nov19_2019.maf')\n",
    "    im3Genes = set(['ABL1', 'AKT1', 'AKT2', 'AKT3', 'ALK', 'ALOX12B', 'APC', 'AR', 'ARAF', 'ARID1A', 'ARID1B', 'ARID2', 'ARID5B', 'ASXL1', 'ASXL2', 'ATM', 'ATR', 'ATRX', 'AURKA', 'AURKB', 'AXIN1', 'AXIN2', 'AXL', 'B2M', 'BAP1', 'BARD1', 'BBC3', 'BCL2', 'BCL2L1', 'BCL2L11', 'BCL6', 'BCOR', 'BLM', 'BMPR1A', 'BRAF', 'BRCA1', 'BRCA2', 'BRD4', 'BRIP1', 'BTK', 'CARD11', 'CASP8', 'CBFB', 'CBL', 'CCND1', 'CCND2', 'CCND3', 'CCNE1', 'CD274', 'CD276', 'CD79B', 'CDC73', 'CDH1', 'CDK12', 'CDK4', 'CDK6', 'CDK8', 'CDKN1A', 'CDKN1B', 'CDKN2A', 'CDKN2B', 'CDKN2C', 'CHEK1', 'CHEK2', 'CIC', 'CREBBP', 'CRKL', 'CRLF2', 'CSF1R', 'CTCF', 'CTLA4', 'CTNNB1', 'CUL3', 'DAXX', 'DCUN1D1', 'DDR2', 'DICER1', 'DIS3', 'DNMT1', 'DNMT3A', 'DNMT3B', 'DOT1L', 'E2F3', 'EED', 'EGFL7', 'EGFR', 'EIF1AX', 'EP300', 'EPCAM', 'EPHA3', 'EPHA5', 'EPHB1', 'ERBB2', 'ERBB3', 'ERBB4', 'ERCC2', 'ERCC3', 'ERCC4', 'ERCC5', 'ERG', 'ESR1', 'ETV1', 'ETV6', 'EZH2', 'FAM123B', 'FAM175A', 'FAM46C', 'FANCA', 'FANCC', 'FAT1', 'FBXW7', 'FGF19', 'FGF3', 'FGF4', 'FGFR1', 'FGFR2', 'FGFR3', 'FGFR4', 'FH', 'FLCN', 'FLT1', 'FLT3', 'FLT4', 'FOXA1', 'FOXL2', 'FOXP1', 'FUBP1', 'GATA1', 'GATA2', 'GATA3', 'GNA11', 'GNAQ', 'GNAS', 'GREM1', 'GRIN2A', 'GSK3B', 'H3F3C', 'HGF', 'HIST1H1C', 'HIST1H2BD', 'HIST1H3B', 'HNF1A', 'HRAS', 'ICOSLG', 'IDH1', 'IDH2', 'IFNGR1', 'IGF1', 'IGF1R', 'IGF2', 'IKBKE', 'IKZF1', 'IL10', 'IL7R', 'INPP4A', 'INPP4B', 'INSR', 'IRF4', 'IRS1', 'IRS2', 'JAK1', 'JAK2', 'JAK3', 'JUN', 'KDM5A', 'KDM5C', 'KDM6A', 'KDR', 'KEAP1', 'KIT', 'KLF4', 'KRAS', 'LATS1', 'LATS2', 'LMO1', 'MAP2K1', 'MAP2K2', 'MAP2K4', 'MAP3K1', 'MAP3K13', 'MAPK1', 'MAX', 'MCL1', 'MDC1', 'MDM2', 'MDM4', 'MED12', 'MEF2B', 'MEN1', 'MET', 'MITF', 'MLH1', 'MLL', 'MLL2', 'MLL3', 'MPL', 'MRE11A', 'MSH2', 'MSH6', 'MTOR', 'MUTYH', 'MYC', 'MYCL1', 'MYCN', 'MYD88', 'MYOD1', 'NBN', 'NCOR1', 'NF1', 'NF2', 'NFE2L2', 'NKX2-1', 'NKX3-1', 'NOTCH1', 'NOTCH2', 'NOTCH3', 'NOTCH4', 'NPM1', 'NRAS', 'NSD1', 'NTRK1', 'NTRK2', 'NTRK3', 'PAK1', 'PAK7', 'PALB2', 'PARK2', 'PARP1', 'PAX5', 'PBRM1', 'PDCD1', 'PDGFRA', 'PDGFRB', 'PDPK1', 'PHOX2B', 'PIK3C2G', 'PIK3C3', 'PIK3CA', 'PIK3CB', 'PIK3CD', 'PIK3CG', 'PIK3R1', 'PIK3R2', 'PIK3R3', 'PIM1', 'PLK2', 'PMAIP1', 'PMS1', 'PMS2', 'PNRC1', 'POLE', 'PPP2R1A', 'PRDM1', 'PRKAR1A', 'PTCH1', 'PTEN', 'PTPN11', 'PTPRD', 'PTPRS', 'PTPRT', 'RAC1', 'RAD50', 'RAD51', 'RAD51B', 'RAD51C', 'RAD51D', 'RAD52', 'RAD54L', 'RAF1', 'RARA', 'RASA1', 'RB1', 'RBM10', 'RECQL4', 'REL', 'RET', 'RFWD2', 'RHOA', 'RICTOR', 'RIT1', 'RNF43', 'ROS1', 'RPS6KA4', 'RPS6KB2', 'RPTOR', 'RUNX1', 'RYBP', 'SDHA', 'SDHAF2', 'SDHB', 'SDHC', 'SDHD', 'SETD2', 'SF3B1', 'SH2D1A', 'SHQ1', 'SMAD2', 'SMAD3', 'SMAD4', 'SMARCA4', 'SMARCB1', 'SMARCD1', 'SMO', 'SOCS1', 'SOX17', 'SOX2', 'SOX9', 'SPEN', 'SPOP', 'SRC', 'STAG2', 'STK11', 'STK40', 'SUFU', 'SUZ12', 'SYK', 'TBX3', 'TERT', 'TET1', 'TET2', 'TGFBR1', 'TGFBR2', 'TMEM127', 'TMPRSS2', 'TNFAIP3', 'TNFRSF14', 'TOP1', 'TP53', 'TP63', 'TRAF7', 'TSC1', 'TSC2', 'TSHR', 'U2AF1', 'VHL', 'VTCN1', 'WT1', 'XIAP', 'XPO1', 'YAP1', 'YES1'])\n",
    "    allImpactMuts341 = allImpactMuts[allImpactMuts['Hugo_Symbol'].isin(im3Genes)]\n",
    "\n",
    "    nmutDict = dict(allImpactMuts341['Tumor_Sample_Barcode'].value_counts())\n",
    "    hotspotDict = dict(allImpactMuts341[allImpactMuts341['is-a-hotspot'] == 'Y']['Tumor_Sample_Barcode'].value_counts())\n",
    "    oncogenicDict = dict(allImpactMuts341[allImpactMuts341['oncogenic'].notnull()]['Tumor_Sample_Barcode'].value_counts())\n",
    "    stopGainDict = dict(allImpactMuts341[allImpactMuts341['Consequence'] == 'stop_gained']['Tumor_Sample_Barcode'].value_counts())\n",
    "\n",
    "    #add entries with the value 0 where necessary\n",
    "    for case in set(expectedDf['case']):\n",
    "        if case not in hotspotDict:\n",
    "            hotspotDict[case] = 0\n",
    "        if case not in oncogenicDict:\n",
    "            oncogenicDict[case] = 0\n",
    "        if case not in stopGainDict:\n",
    "            stopGainDict[case] = 0\n",
    "    return hotspotDict, oncogenicDict, stopGainDict"
   ]
  },
  {
   "cell_type": "code",
   "execution_count": 22,
   "metadata": {},
   "outputs": [],
   "source": [
    "def enumerate_related_and_weakly_related_genes(df, mode='dnds', cancerTypes = ['Endometrial Cancer', 'Colorectal Cancer']):\n",
    "    \n",
    "    if mode == 'dnds':\n",
    "        dictOfDicts = {}\n",
    "        for cancerType in cancerTypes:\n",
    "            cancerTypeDf = df[df['cancerType'] == cancerType]\n",
    "            normal = set(cancerTypeDf[cancerTypeDf['qglobal_cv.Normal'] <= .01]['gene_name'])\n",
    "            normalAndHyperStrong = normal | set(cancerTypeDf[cancerTypeDf['qglobal_cv.Hypermutated'] <= .01]['gene_name'])\n",
    "            normalAndHyperStrongAndWeak = normalAndHyperStrong | set(cancerTypeDf[cancerTypeDf['qglobal_cv.Hypermutated'] <= .1]['gene_name'])\n",
    "            dictOfDicts[cancerType] = {'normal': normal, 'normalAndHyperStrong': normalAndHyperStrong, 'normalAndHyperStrongAndWeak': normalAndHyperStrongAndWeak}\n",
    "        \n",
    "        return dictOfDicts\n",
    "        \n",
    "    elif mode == 'counts':\n",
    "        relatedThresh = .1\n",
    "        unrelatedThresh = .01\n",
    "    \n",
    "    else:\n",
    "        print 'error invalid mode specified'\n"
   ]
  },
  {
   "cell_type": "code",
   "execution_count": 90,
   "metadata": {},
   "outputs": [],
   "source": [
    "def get_median_expected_rate(expectedDf, mode='oncogenic'):\n",
    "    cntr = 0\n",
    "    rates = []\n",
    "    col = None\n",
    "    if mode == 'oncogenic':\n",
    "        col = 'oncogenicChance'\n",
    "    for case in set(expectedDf['case']):\n",
    "        cntr += 1\n",
    "        if cntr%25==0:print cntr,\n",
    "        caseExpectation = expectedDf[expectedDf['case'] == case]\n",
    "        rates.append(sum(caseExpectation[col]))\n",
    "    return np.nanmedian(rates)"
   ]
  },
  {
   "cell_type": "code",
   "execution_count": 94,
   "metadata": {},
   "outputs": [
    {
     "name": "stdout",
     "output_type": "stream",
     "text": [
      "\n"
     ]
    }
   ],
   "source": [
    "def summarize_obs_vs_expected_divergence_explained_by_gene_classes(expectedDf, mutsDf, geneDicts,\n",
    "                                                                    mode='oncogenic'):\n",
    "    listOfDicts = []\n",
    "    cntr = 0\n",
    "    \n",
    "    im3Genes = set(['ABL1', 'AKT1', 'AKT2', 'AKT3', 'ALK', 'ALOX12B', 'APC', 'AR', 'ARAF', 'ARID1A', 'ARID1B', 'ARID2', 'ARID5B', 'ASXL1', 'ASXL2', 'ATM', 'ATR', 'ATRX', 'AURKA', 'AURKB', 'AXIN1', 'AXIN2', 'AXL', 'B2M', 'BAP1', 'BARD1', 'BBC3', 'BCL2', 'BCL2L1', 'BCL2L11', 'BCL6', 'BCOR', 'BLM', 'BMPR1A', 'BRAF', 'BRCA1', 'BRCA2', 'BRD4', 'BRIP1', 'BTK', 'CARD11', 'CASP8', 'CBFB', 'CBL', 'CCND1', 'CCND2', 'CCND3', 'CCNE1', 'CD274', 'CD276', 'CD79B', 'CDC73', 'CDH1', 'CDK12', 'CDK4', 'CDK6', 'CDK8', 'CDKN1A', 'CDKN1B', 'CDKN2A', 'CDKN2B', 'CDKN2C', 'CHEK1', 'CHEK2', 'CIC', 'CREBBP', 'CRKL', 'CRLF2', 'CSF1R', 'CTCF', 'CTLA4', 'CTNNB1', 'CUL3', 'DAXX', 'DCUN1D1', 'DDR2', 'DICER1', 'DIS3', 'DNMT1', 'DNMT3A', 'DNMT3B', 'DOT1L', 'E2F3', 'EED', 'EGFL7', 'EGFR', 'EIF1AX', 'EP300', 'EPCAM', 'EPHA3', 'EPHA5', 'EPHB1', 'ERBB2', 'ERBB3', 'ERBB4', 'ERCC2', 'ERCC3', 'ERCC4', 'ERCC5', 'ERG', 'ESR1', 'ETV1', 'ETV6', 'EZH2', 'FAM123B', 'FAM175A', 'FAM46C', 'FANCA', 'FANCC', 'FAT1', 'FBXW7', 'FGF19', 'FGF3', 'FGF4', 'FGFR1', 'FGFR2', 'FGFR3', 'FGFR4', 'FH', 'FLCN', 'FLT1', 'FLT3', 'FLT4', 'FOXA1', 'FOXL2', 'FOXP1', 'FUBP1', 'GATA1', 'GATA2', 'GATA3', 'GNA11', 'GNAQ', 'GNAS', 'GREM1', 'GRIN2A', 'GSK3B', 'H3F3C', 'HGF', 'HIST1H1C', 'HIST1H2BD', 'HIST1H3B', 'HNF1A', 'HRAS', 'ICOSLG', 'IDH1', 'IDH2', 'IFNGR1', 'IGF1', 'IGF1R', 'IGF2', 'IKBKE', 'IKZF1', 'IL10', 'IL7R', 'INPP4A', 'INPP4B', 'INSR', 'IRF4', 'IRS1', 'IRS2', 'JAK1', 'JAK2', 'JAK3', 'JUN', 'KDM5A', 'KDM5C', 'KDM6A', 'KDR', 'KEAP1', 'KIT', 'KLF4', 'KRAS', 'LATS1', 'LATS2', 'LMO1', 'MAP2K1', 'MAP2K2', 'MAP2K4', 'MAP3K1', 'MAP3K13', 'MAPK1', 'MAX', 'MCL1', 'MDC1', 'MDM2', 'MDM4', 'MED12', 'MEF2B', 'MEN1', 'MET', 'MITF', 'MLH1', 'MLL', 'MLL2', 'MLL3', 'MPL', 'MRE11A', 'MSH2', 'MSH6', 'MTOR', 'MUTYH', 'MYC', 'MYCL1', 'MYCN', 'MYD88', 'MYOD1', 'NBN', 'NCOR1', 'NF1', 'NF2', 'NFE2L2', 'NKX2-1', 'NKX3-1', 'NOTCH1', 'NOTCH2', 'NOTCH3', 'NOTCH4', 'NPM1', 'NRAS', 'NSD1', 'NTRK1', 'NTRK2', 'NTRK3', 'PAK1', 'PAK7', 'PALB2', 'PARK2', 'PARP1', 'PAX5', 'PBRM1', 'PDCD1', 'PDGFRA', 'PDGFRB', 'PDPK1', 'PHOX2B', 'PIK3C2G', 'PIK3C3', 'PIK3CA', 'PIK3CB', 'PIK3CD', 'PIK3CG', 'PIK3R1', 'PIK3R2', 'PIK3R3', 'PIM1', 'PLK2', 'PMAIP1', 'PMS1', 'PMS2', 'PNRC1', 'POLE', 'PPP2R1A', 'PRDM1', 'PRKAR1A', 'PTCH1', 'PTEN', 'PTPN11', 'PTPRD', 'PTPRS', 'PTPRT', 'RAC1', 'RAD50', 'RAD51', 'RAD51B', 'RAD51C', 'RAD51D', 'RAD52', 'RAD54L', 'RAF1', 'RARA', 'RASA1', 'RB1', 'RBM10', 'RECQL4', 'REL', 'RET', 'RFWD2', 'RHOA', 'RICTOR', 'RIT1', 'RNF43', 'ROS1', 'RPS6KA4', 'RPS6KB2', 'RPTOR', 'RUNX1', 'RYBP', 'SDHA', 'SDHAF2', 'SDHB', 'SDHC', 'SDHD', 'SETD2', 'SF3B1', 'SH2D1A', 'SHQ1', 'SMAD2', 'SMAD3', 'SMAD4', 'SMARCA4', 'SMARCB1', 'SMARCD1', 'SMO', 'SOCS1', 'SOX17', 'SOX2', 'SOX9', 'SPEN', 'SPOP', 'SRC', 'STAG2', 'STK11', 'STK40', 'SUFU', 'SUZ12', 'SYK', 'TBX3', 'TERT', 'TET1', 'TET2', 'TGFBR1', 'TGFBR2', 'TMEM127', 'TMPRSS2', 'TNFAIP3', 'TNFRSF14', 'TOP1', 'TP53', 'TP63', 'TRAF7', 'TSC1', 'TSC2', 'TSHR', 'U2AF1', 'VHL', 'VTCN1', 'WT1', 'XIAP', 'XPO1', 'YAP1', 'YES1'])\n",
    "    mutsDf = mutsDf[mutsDf['Hugo_Symbol'].isin(im3Genes)]\n",
    "    mutsDf = mutsDf[mutsDf['Variant_Type'] == 'SNP']\n",
    "    nmutDict = dict(mutsDf['Tumor_Sample_Barcode'].value_counts())\n",
    "    \n",
    "    medianExp = None\n",
    "    if mode == 'oncogenic':\n",
    "        mutsDf = mutsDf[mutsDf['oncogenic'].notnull()]\n",
    "        #medianExp = get_median_expected_rate(expectedDf)\n",
    "        medianExp = 0.05 #about what it was \n",
    "    \n",
    "    for case in set(mutsDf['Tumor_Sample_Barcode']):\n",
    "    \n",
    "        if cntr %100 == 0: print cntr,\n",
    "        cntr +=1\n",
    "\n",
    "        caseDf = mutsDf[mutsDf['Tumor_Sample_Barcode'] == case]\n",
    "        if caseDf.shape[0] > 0:\n",
    "    \n",
    "            caseExpectation = expectedDf[expectedDf['case'] == case]\n",
    "            #NOTE we need to cancer cancer type to be underscore separated\n",
    "            cancerType = caseDf['cancerType'].iloc[0].split(' ')[0] + '_' + caseDf['cancerType'].iloc[0].split(' ')[1]\n",
    "            nmutObs = caseDf.shape[0]\n",
    "            \n",
    "            #this can be added if needed\n",
    "            #.drop_duplicates(subset=['Hugo_Symbol'])\n",
    "            nmutNormal = caseDf[caseDf['Hugo_Symbol'].isin(geneDicts[cancerType]['normal'])].shape[0]\n",
    "            nmutNormalAndHyperStrong = caseDf[caseDf['Hugo_Symbol'].isin(geneDicts[cancerType]['normalAndHyperStrong'])].shape[0]\n",
    "            nmutNormalAndHyperAll = caseDf[caseDf['Hugo_Symbol'].isin(geneDicts[cancerType]['normalAndHyperStrongAndWeak'])].shape[0]\n",
    "\n",
    "            nmutCase = nmutDict[case]\n",
    "            \n",
    "            oncogenicExpectation = nmutCase * medianExp\n",
    "            if case in set(expectedDf['case']):\n",
    "                hotspotExpectation = nmutCase *sum(caseExpectation['hotspotChance'])\n",
    "                oncogenicExpectation = nmutCase *sum(caseExpectation['oncogenicChance'])\n",
    "            expected = 0\n",
    "            if mode == 'oncogenic':\n",
    "                expected = oncogenicExpectation\n",
    "\n",
    "            listOfDicts.append({'nmut': nmutCase, 'Tumor_Sample_Barcode': case, 'cancerType': cancerType,\n",
    "                               'dif': nmutObs - expected, 'observed': nmutObs, 'expected': expected,\n",
    "                                'nmutNormal': nmutNormal, 'nmutNormalAndHyperStrong': nmutNormalAndHyperStrong,\n",
    "                               'nmutNormalAndHyperAll': nmutNormalAndHyperAll})\n",
    "\n",
    "    df = pd.DataFrame(listOfDicts)\n",
    "    return df\n",
    "    "
   ]
  },
  {
   "cell_type": "code",
   "execution_count": 2,
   "metadata": {},
   "outputs": [],
   "source": [
    "expectedDf = pd.read_table(pathPrefix + '/juno/work/taylorlab/friedman/hypermutationAnalysisProj/mutSimulation/expectedMutationTables/allHypermutatorsExpectedGeneMutInfo.tsv')\n"
   ]
  },
  {
   "cell_type": "code",
   "execution_count": 4,
   "metadata": {},
   "outputs": [
    {
     "name": "stderr",
     "output_type": "stream",
     "text": [
      "/anaconda2/lib/python2.7/site-packages/IPython/core/interactiveshell.py:2818: DtypeWarning: Columns (4,17,18,40,41,43,44,71,72,108,124,125,128,129,130,131,132,133,134,135,137,140,141) have mixed types. Specify dtype option on import or set low_memory=False.\n",
      "  if self.run_code(code, result):\n"
     ]
    }
   ],
   "source": [
    "hotspotDict, oncogenicDict, stopGainDict = get_n_consequential_mut_count()"
   ]
  },
  {
   "cell_type": "code",
   "execution_count": 6,
   "metadata": {},
   "outputs": [],
   "source": [
    "dndsDf = pd.read_table(pathPrefix + '/juno/work/taylorlab/friedman/myAdjustedDataFiles/dndsHypermutants.tsv')"
   ]
  },
  {
   "cell_type": "code",
   "execution_count": 30,
   "metadata": {},
   "outputs": [
    {
     "name": "stderr",
     "output_type": "stream",
     "text": [
      "/anaconda2/lib/python2.7/site-packages/IPython/core/interactiveshell.py:2714: DtypeWarning: Columns (4,17,18,40,41,43,44,71,72,108,124,125,128,129,130,131,132,133,134,135,137,140,141) have mixed types. Specify dtype option on import or set low_memory=False.\n",
      "  interactivity=interactivity, compiler=compiler, result=result)\n"
     ]
    }
   ],
   "source": [
    "allImpactMuts = pd.read_table(pathPrefix + '/juno/work/taylorlab/friedman/myAdjustedDataFiles/data_mutations_extended_annotated_sigContext_nov19_2019.maf')\n"
   ]
  },
  {
   "cell_type": "code",
   "execution_count": 34,
   "metadata": {},
   "outputs": [],
   "source": [
    "cancerTypeDict = get_gene_and_cohort_list_utils.get_impact_cancer_type_info(impactCancerTypeInfoPath = pathPrefix + '/juno/work/taylorlab/friedman/myAdjustedDataFiles/cancerTypeInfo_asOfNov192019.txt')\n",
    "allImpactMuts['cancerType'] = allImpactMuts['Tumor_Sample_Barcode'].apply(lambda x: cancerTypeDict[x] if x in cancerTypeDict else None)\n"
   ]
  },
  {
   "cell_type": "code",
   "execution_count": 58,
   "metadata": {},
   "outputs": [],
   "source": [
    "#cTypes = ['Endometrial_Cancer', 'Colorectal_Cancer', 'Prostate_Cancer', 'Esophagogastric_Cancer', 'Bladder_Cancer']\n",
    "cTypes = ['Endometrial_Cancer', 'Colorectal_Cancer']\n",
    "dictOfDicts = enumerate_related_and_weakly_related_genes(dndsDf, mode='dnds', cancerTypes=cTypes)\n",
    "cTypesIMForm = [i.split('_')[0] + ' ' + i.split('_')[1] for i in cTypes]"
   ]
  },
  {
   "cell_type": "code",
   "execution_count": null,
   "metadata": {},
   "outputs": [],
   "source": [
    "dfDiv = summarize_obs_vs_expected_divergence_explained_by_gene_classes(expectedDf, allImpactMuts[allImpactMuts['cancerType'].isin(cTypesIMForm)],\n",
    "                                                        dictOfDicts, mode='oncogenic')"
   ]
  },
  {
   "cell_type": "code",
   "execution_count": 101,
   "metadata": {},
   "outputs": [],
   "source": [
    "dfDiv.to_csv('/Users/friedman/Desktop/WORK/dataForLocalPlotting/observedVsExpectedByType.tsv', index=False, sep='\\t')\n"
   ]
  },
  {
   "cell_type": "code",
   "execution_count": 102,
   "metadata": {},
   "outputs": [
    {
     "name": "stdout",
     "output_type": "stream",
     "text": [
      "25 50 75 100 125 150 175 200 225 250 275 300 325 350 375 400 425 450 475 500 525 550 575 600 625 650 675 700 725 750 775 800 825 850 875 900 925 950 975 1000 1025 1050 1075 1100 1125 1150 1175 1200 1225 1250 1275 1300 1325 1350 1375 1400 1425 1450 1475 1500 1525 1550"
     ]
    },
    {
     "data": {
      "text/plain": [
       "0.05644723732825163"
      ]
     },
     "execution_count": 102,
     "metadata": {},
     "output_type": "execute_result"
    },
    {
     "name": "stdout",
     "output_type": "stream",
     "text": [
      "\n"
     ]
    }
   ],
   "source": [
    "get_median_expected_rate(expectedDf, mode='oncogenic')"
   ]
  },
  {
   "cell_type": "code",
   "execution_count": 3,
   "metadata": {},
   "outputs": [],
   "source": [
    "#\n",
    "###\n",
    "######\n",
    "#############\n",
    "#####\n",
    "###\n",
    "#"
   ]
  },
  {
   "cell_type": "code",
   "execution_count": 58,
   "metadata": {},
   "outputs": [],
   "source": [
    "def summarize_relative_mutation_prevalence_hyper_vs_nonhyper(oncMutsDf, cancerTypes, dndsDict):\n",
    "    listOfDicts = []\n",
    "    for cancerType in cancerTypes:\n",
    "        hypermutantMaf = oncMutsDf[(oncMutsDf['hypermutantStatus'] == 'Hypermutated') &\n",
    "                                   (oncMutsDf['cancerType'] == cancerType)]\n",
    "        normalMaf = oncMutsDf[(oncMutsDf['hypermutantStatus'] == 'Normal') &\n",
    "                             (oncMutsDf['cancerType'] == cancerType)]\n",
    "        dndsKey = '_'.join(cancerType.split(' '))\n",
    "        ctDNDS = dndsDict[dndsKey]\n",
    "        \n",
    "        nHyperCases = 1.0*len(set(hypermutantMaf['Tumor_Sample_Barcode'])) \n",
    "        nNormalCases = 1.0*len(set(normalMaf['Tumor_Sample_Barcode']))\n",
    "        \n",
    "        for gene in set(normalMaf['Hugo_Symbol']):\n",
    "            geneMafHyper = hypermutantMaf[hypermutantMaf['Hugo_Symbol'] == gene]\n",
    "            geneMafNormal = normalMaf[normalMaf['Hugo_Symbol'] == gene]\n",
    "            \n",
    "            percentHyper = geneMafHyper.drop_duplicates(subset=['Tumor_Sample_Barcode']).shape[0]/nHyperCases\n",
    "            percentNormal = geneMafNormal.drop_duplicates(subset=['Tumor_Sample_Barcode']).shape[0]/nNormalCases\n",
    "            \n",
    "            if gene in ctDNDS:\n",
    "                listOfDicts.append({'Gene': gene, 'ratio': percentHyper/percentNormal,\n",
    "                                   'cancerType': cancerType, 'dndsScore': ctDNDS[gene],\n",
    "                                   'percentHyper': percentHyper})\n",
    "    return pd.DataFrame(listOfDicts)\n",
    "    "
   ]
  },
  {
   "cell_type": "code",
   "execution_count": 13,
   "metadata": {},
   "outputs": [],
   "source": [
    "def convert_dnds_data_to_dict(dndsDf, cancerTypes):\n",
    "    d = {}\n",
    "    for cancerType in cancerTypes:\n",
    "        cancerTypeDnds = dndsDf[dndsDf['cancerType'] == cancerType]\n",
    "        localD = dict(zip(cancerTypeDnds['gene_name'], cancerTypeDnds['qglobal_cv.Normal']))\n",
    "        d[cancerType] = localD\n",
    "    return d\n",
    "        \n",
    "    "
   ]
  },
  {
   "cell_type": "code",
   "execution_count": 4,
   "metadata": {},
   "outputs": [
    {
     "name": "stderr",
     "output_type": "stream",
     "text": [
      "/anaconda2/lib/python2.7/site-packages/IPython/core/interactiveshell.py:2714: DtypeWarning: Columns (4,17,18,40,41,43,44,71,72,108,124,125,128,129,130,131,132,133,134,135,137,140,141) have mixed types. Specify dtype option on import or set low_memory=False.\n",
      "  interactivity=interactivity, compiler=compiler, result=result)\n"
     ]
    }
   ],
   "source": [
    "dfDNDSHyper = pd.read_table('~/Desktop/offlineFilesForVirus/dndsHypermutants.tsv')\n",
    "allImpactMutsMaf = pd.read_table('/Users/friedman/Desktop/offlineFilesForVirus/data_mutations_extended_annotated_sigContext_nov19_2019.maf')"
   ]
  },
  {
   "cell_type": "code",
   "execution_count": null,
   "metadata": {
    "scrolled": true
   },
   "outputs": [],
   "source": [
    "allHypermutantIds = get_gene_and_cohort_list_utils.get_all_hypermutant_ids(hypermutantIdDir=pathPrefix + '/juno/work/taylorlab/friedman/hypermutationAnalysisProj/projectDataAndConfigFiles/hypermutationStatusIds')\n"
   ]
  },
  {
   "cell_type": "code",
   "execution_count": null,
   "metadata": {},
   "outputs": [],
   "source": [
    "reload(get_gene_and_cohort_list_utils)\n",
    "allNormalIds = get_gene_and_cohort_list_utils.get_all_normal_ids(hypermutantIdDir=pathPrefix + '/juno/work/taylorlab/friedman/hypermutationAnalysisProj/projectDataAndConfigFiles/hypermutationStatusIds')\n"
   ]
  },
  {
   "cell_type": "code",
   "execution_count": 7,
   "metadata": {},
   "outputs": [],
   "source": [
    "cancerTypeDict = get_gene_and_cohort_list_utils.get_impact_cancer_type_info(impactCancerTypeInfoPath = pathPrefix + '/juno/work/taylorlab/friedman/myAdjustedDataFiles/cancerTypeInfo_asOfNov192019.txt')\n",
    "allImpactMutsMaf['cancerType'] = allImpactMutsMaf['Tumor_Sample_Barcode'].apply(lambda x: cancerTypeDict[x] if x in cancerTypeDict else None)\n"
   ]
  },
  {
   "cell_type": "code",
   "execution_count": 15,
   "metadata": {},
   "outputs": [],
   "source": [
    "allImpactMutsMaf['hypermutantStatus'] = allImpactMutsMaf['Tumor_Sample_Barcode'].apply(lambda x:\n",
    "            'Hypermutated' if x in allHypermutantIds else 'Normal' if x in allNormalIds\n",
    "            else None)\n",
    "allImpactMutsMafOnc = allImpactMutsMaf[(allImpactMutsMaf['hypermutantStatus'].notnull())&\n",
    "                                      (allImpactMutsMaf['oncogenic'].notnull())]"
   ]
  },
  {
   "cell_type": "code",
   "execution_count": 63,
   "metadata": {},
   "outputs": [],
   "source": [
    "dndsDictForm = convert_dnds_data_to_dict(dfDNDSHyper, ['Endometrial_Cancer', 'Colorectal_Cancer', 'Bladder_Cancer', 'Prostate_Cancer', 'Esophagogastric_Cancer', 'Glioma'])"
   ]
  },
  {
   "cell_type": "code",
   "execution_count": null,
   "metadata": {},
   "outputs": [
    {
     "name": "stdout",
     "output_type": "stream",
     "text": [
      "yo 4.21741293532\n",
      "yo 4.58498583569\n",
      "yo 2.02220166512\n",
      "yo 1.80294117647\n"
     ]
    }
   ],
   "source": [
    "df = summarize_relative_mutation_prevalence_hyper_vs_nonhyper(allImpactMutsMafOnc, \n",
    "    ['Endometrial Cancer', 'Colorectal Cancer', 'Bladder Cancer', 'Prostate Cancer', 'Esophagogastric Cancer', 'Glioma'], dndsDictForm)\n",
    "#allImpactMutsMafOnc['cancerType']"
   ]
  },
  {
   "cell_type": "code",
   "execution_count": 60,
   "metadata": {},
   "outputs": [],
   "source": [
    "df['geneCancerType'] = df['Gene'] + '_' + df['cancerType']"
   ]
  },
  {
   "cell_type": "code",
   "execution_count": 61,
   "metadata": {},
   "outputs": [],
   "source": [
    "df.to_csv('/Users/friedman/Desktop/WORK/dataForLocalPlotting/dndsAndGenePrev.tsv', index=False, sep='\\t')\n"
   ]
  }
 ],
 "metadata": {
  "kernelspec": {
   "display_name": "Python 2",
   "language": "python",
   "name": "python2"
  },
  "language_info": {
   "codemirror_mode": {
    "name": "ipython",
    "version": 2
   },
   "file_extension": ".py",
   "mimetype": "text/x-python",
   "name": "python",
   "nbconvert_exporter": "python",
   "pygments_lexer": "ipython2",
   "version": "2.7.15"
  }
 },
 "nbformat": 4,
 "nbformat_minor": 2
}
